{
 "cells": [
  {
   "cell_type": "markdown",
   "id": "ee7f9a72",
   "metadata": {},
   "source": [
    "Web Scraping by BeautifulSoup"
   ]
  },
  {
   "cell_type": "code",
   "execution_count": null,
   "metadata": {},
   "outputs": [],
   "source": [
    "from bs4 import BeautifulSoup\n",
    "import requests\n",
    "import pandas as pd"
   ]
  },
  {
   "cell_type": "code",
   "execution_count": null,
   "metadata": {},
   "outputs": [],
   "source": [
    "url = \"https://www.harpersbazaar.com/fashion/trends/g41334481/winter-2022-jewelry-trends/\""
   ]
  },
  {
   "cell_type": "code",
   "execution_count": null,
   "metadata": {},
   "outputs": [],
   "source": [
    "res = requests.get(url)\n",
    "res.encoding = \"utf-8\"\n",
    "print(res)"
   ]
  },
  {
   "cell_type": "code",
   "execution_count": null,
   "metadata": {},
   "outputs": [],
   "source": [
    "soup = BeautifulSoup(res.text, 'html.parser')\n",
    "print(soup)"
   ]
  },
  {
   "cell_type": "code",
   "execution_count": null,
   "metadata": {},
   "outputs": [],
   "source": [
    "print(soup.prettify())"
   ]
  },
  {
   "cell_type": "code",
   "execution_count": null,
   "metadata": {},
   "outputs": [],
   "source": [
    "df = soup.find_all('div',class_='listicle-slide-hed')"
   ]
  },
  {
   "cell_type": "code",
   "execution_count": null,
   "metadata": {},
   "outputs": [],
   "source": [
    "df"
   ]
  },
  {
   "cell_type": "code",
   "execution_count": null,
   "metadata": {
    "scrolled": true
   },
   "outputs": [],
   "source": [
    "df1 = data = []\n",
    "\n",
    "for item in df :\n",
    "\n",
    "    data.append({\n",
    "        \n",
    "        'product_style' : item.find(class_= 'listicle-product-review-label').text,\n",
    "        'product_name' : item.find(class_='listicle-slide-hed-text').text,\n",
    "        'brand_name' : item.find(class_= 'product-slide-brand')\n",
    "             \n",
    "          })"
   ]
  },
  {
   "cell_type": "code",
   "execution_count": null,
   "metadata": {
    "scrolled": true
   },
   "outputs": [],
   "source": [
    "df2 = pd.DataFrame(df1)\n",
    "df2"
   ]
  },
  {
   "cell_type": "code",
   "execution_count": null,
   "metadata": {},
   "outputs": [],
   "source": [
    "df3 = df2.replace({'\\[':'','\\]':'','Winter 2022 Jewelry Trend:':''}, regex = True)\n",
    "df3"
   ]
  },
  {
   "cell_type": "code",
   "execution_count": null,
   "metadata": {},
   "outputs": [],
   "source": [
    "df4 = df3.drop([8,15,19])\n",
    "df4"
   ]
  },
  {
   "cell_type": "markdown",
   "id": "2d74e6f4",
   "metadata": {},
   "source": [
    "Convert DataFrame to CSV file"
   ]
  },
  {
   "cell_type": "code",
   "execution_count": null,
   "metadata": {
    "scrolled": false
   },
   "outputs": [],
   "source": [
    "df4.to_csv(r'C:\\Users\\acer\\Desktop\\jewelrytrend2022.csv')"
   ]
  },
  {
   "cell_type": "markdown",
   "id": "4a25382c",
   "metadata": {},
   "source": [
    "Clean code by using Excel (Remove special alphabet and unwanted tag) and uploaded file to DataPlatform"
   ]
  },
  {
   "cell_type": "code",
   "execution_count": null,
   "id": "7165555b",
   "metadata": {},
   "outputs": [],
   "source": [
    "from dsmlibrary.datanode import DataNode\n",
    "import json\n",
    "from tqdm.auto import tqdm\n",
    "import pandas as pd"
   ]
  },
  {
   "cell_type": "code",
   "execution_count": null,
   "id": "5164c876",
   "metadata": {},
   "outputs": [],
   "source": [
    "dir_raw_id = 45\n",
    "dir_process_id = 123"
   ]
  },
  {
   "cell_type": "code",
   "execution_count": null,
   "id": "ff75bd23",
   "metadata": {},
   "outputs": [],
   "source": [
    "datanode = DataNode()"
   ]
  },
  {
   "cell_type": "code",
   "execution_count": null,
   "id": "4d77a72f",
   "metadata": {},
   "outputs": [],
   "source": [
    "meta, fp = datanode.get_file(datanode.get_file_id(directory_id=dir_raw_id, name='jewelrytrendin2022.csv'))\n",
    "meta"
   ]
  },
  {
   "cell_type": "code",
   "execution_count": null,
   "id": "a4440640",
   "metadata": {},
   "outputs": [],
   "source": [
    "df = pd.read_csv(fp)\n",
    "df"
   ]
  },
  {
   "cell_type": "markdown",
   "id": "cad8a7d0",
   "metadata": {},
   "source": [
    "Covert file to parquet and upload to Dataplatform"
   ]
  },
  {
   "cell_type": "code",
   "execution_count": null,
   "id": "7ca422a0",
   "metadata": {},
   "outputs": [],
   "source": [
    "datanode.write(df=df, directory=dir_process_id, name=\"jewelry_trend_in_2022\", profiling=True, lineage=[datanode.get_file_id(directory_id=dir_raw_id, name='jewelrytrendin2022.csv')])\""
   ]
  }
 ],
 "metadata": {
  "kernelspec": {
   "display_name": "Python 3.7.6 ('base')",
   "language": "python",
   "name": "python3"
  },
  "language_info": {
   "codemirror_mode": {
    "name": "ipython",
    "version": 3
   },
   "file_extension": ".py",
   "mimetype": "text/x-python",
   "name": "python",
   "nbconvert_exporter": "python",
   "pygments_lexer": "ipython3",
   "version": "3.7.6"
  },
  "vscode": {
   "interpreter": {
    "hash": "18acd681e4f8df9e1ad8daf413d60170772a32d49d5c818dd90a04dcd4c5f4ff"
   }
  }
 },
 "nbformat": 4,
 "nbformat_minor": 5
}
