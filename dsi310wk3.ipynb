{
 "cells": [
  {
   "cell_type": "markdown",
   "id": "028ac7aa",
   "metadata": {},
   "source": [
    "Web Scraping by using BeautifulSoup"
   ]
  },
  {
   "cell_type": "code",
   "execution_count": null,
   "metadata": {},
   "outputs": [],
   "source": [
    "import pandas as pd\n",
    "import bs4\n",
    "import requests\n",
    "import openpyxl\n",
    "import os"
   ]
  },
  {
   "cell_type": "code",
   "execution_count": null,
   "metadata": {},
   "outputs": [],
   "source": [
    "data = requests.get('https://www.thejewelrymagazine.com/?s=Sustainable+material+')"
   ]
  },
  {
   "cell_type": "code",
   "execution_count": null,
   "metadata": {
    "scrolled": true
   },
   "outputs": [],
   "source": [
    "soup = bs4.BeautifulSoup(data.text,'html.parser')\n",
    "soup"
   ]
  },
  {
   "cell_type": "code",
   "execution_count": null,
   "metadata": {},
   "outputs": [],
   "source": [
    "title = soup.find('div',{'class':'td_module_16 td_module_wrap td-animation-stack td-meta-info-hide'})"
   ]
  },
  {
   "cell_type": "code",
   "execution_count": null,
   "metadata": {},
   "outputs": [],
   "source": [
    "title.find('h3',{'class':'entry-title td-module-title'}).text"
   ]
  },
  {
   "cell_type": "code",
   "execution_count": null,
   "metadata": {},
   "outputs": [],
   "source": [
    "tag = title.find('div',{'class':'td-module-meta-info'})"
   ]
  },
  {
   "cell_type": "code",
   "execution_count": null,
   "metadata": {},
   "outputs": [],
   "source": [
    "cats = title.find('div',{'class':'td-module-meta-info'})"
   ]
  },
  {
   "cell_type": "code",
   "execution_count": null,
   "metadata": {},
   "outputs": [],
   "source": [
    "cats.find('a').text"
   ]
  },
  {
   "cell_type": "code",
   "execution_count": null,
   "metadata": {},
   "outputs": [],
   "source": [
    "desc = title.find('div',{'class':'td-excerpt'}).text.replace('\\r','').replace('\\n','')"
   ]
  },
  {
   "cell_type": "code",
   "execution_count": null,
   "metadata": {},
   "outputs": [],
   "source": [
    "len(soup.find('div',{'class':'td_module_16 td_module_wrap td-animation-stack td-meta-info-hide'}))"
   ]
  },
  {
   "cell_type": "code",
   "execution_count": null,
   "metadata": {},
   "outputs": [],
   "source": [
    "i_page = 1\n",
    "title_list = []\n",
    "cats_list = []\n",
    "desc_list = []\n",
    "while i_page <= 5:\n",
    "  data = requests.get(f'https://www.thejewelrymagazine.com/page/{i_page}/?s=Sustainable+material+')\n",
    "  soup = bs4.BeautifulSoup(data.text)\n",
    "  for c in soup.find_all('div', class_='td_module_16 td_module_wrap td-animation-stack td-meta-info-hide'):\n",
    "    title_list.append(c.find('h3', class_= 'entry-title td-module-title').find('a').text.strip())\n",
    "    cats_list.append(c.find('div', class_='td-module-meta-info').text.strip())\n",
    "    desc_list.append(c.find('div', class_='td-excerpt').text.strip())\n",
    "  print('Complete page number: ',i_page)\n",
    "  i_page += 1"
   ]
  },
  {
   "cell_type": "code",
   "execution_count": null,
   "metadata": {
    "scrolled": false
   },
   "outputs": [],
   "source": [
    "table = pd.DataFrame([title_list,cats_list,desc_list]).transpose()\n",
    "table.columns = ['title', 'catagory', 'detail']\n",
    "table.set_index('title')"
   ]
  },
  {
   "cell_type": "code",
   "execution_count": null,
   "id": "0548bddd",
   "metadata": {},
   "outputs": [],
   "source": [
    "df = pd.DataFrame(table)\n",
    "df"
   ]
  },
  {
   "cell_type": "code",
   "execution_count": null,
   "metadata": {},
   "outputs": [],
   "source": [
    "df.info()"
   ]
  },
  {
   "cell_type": "code",
   "execution_count": null,
   "metadata": {},
   "outputs": [],
   "source": [
    "df.duplicated()"
   ]
  },
  {
   "cell_type": "code",
   "execution_count": null,
   "metadata": {},
   "outputs": [],
   "source": [
    "df.drop_duplicates(inplace=True)\n",
    "df"
   ]
  },
  {
   "cell_type": "code",
   "execution_count": null,
   "id": "7fc6662b",
   "metadata": {},
   "outputs": [],
   "source": [
    "df2 = df.drop([13,21])\n",
    "df2"
   ]
  },
  {
   "cell_type": "code",
   "execution_count": null,
   "id": "b547f770",
   "metadata": {},
   "outputs": [],
   "source": [
    "df3 = df2.replace({'\\® ':'','\\~':'','è':'e','’':'','‘':\"\",\"–\":'-','—':'-','é':'e'}, regex = True)\n",
    "df3"
   ]
  },
  {
   "cell_type": "code",
   "execution_count": null,
   "metadata": {},
   "outputs": [],
   "source": [
    "df3.to_csv(r'C:\\Users\\acer\\Desktop\\newsinjewelrymagazine.csv', encoding = 'utf8')"
   ]
  }
 ],
 "metadata": {
  "kernelspec": {
   "display_name": "Python 3.7.6 ('base')",
   "language": "python",
   "name": "python3"
  },
  "language_info": {
   "codemirror_mode": {
    "name": "ipython",
    "version": 3
   },
   "file_extension": ".py",
   "mimetype": "text/x-python",
   "name": "python",
   "nbconvert_exporter": "python",
   "pygments_lexer": "ipython3",
   "version": "3.7.6"
  },
  "vscode": {
   "interpreter": {
    "hash": "18acd681e4f8df9e1ad8daf413d60170772a32d49d5c818dd90a04dcd4c5f4ff"
   }
  }
 },
 "nbformat": 4,
 "nbformat_minor": 5
}
