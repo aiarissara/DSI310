{
 "cells": [
  {
   "cell_type": "code",
   "execution_count": 1,
   "metadata": {},
   "outputs": [],
   "source": [
    "import matplotlib.pyplot as plt\n",
    "import pandas as pd\n",
    "import re\n",
    "from sklearn.feature_extraction.text import TfidfVectorizer\n",
    "from nltk import download\n",
    "import nltk\n",
    "from nltk.corpus import stopwords\n",
    "from wordcloud import WordCloud\n",
    "import json\n",
    "from nltk.stem import WordNetLemmatizer"
   ]
  },
  {
   "cell_type": "code",
   "execution_count": 2,
   "metadata": {},
   "outputs": [],
   "source": [
    "import pandas as pd \n",
    "pd.set_option('display.max_colwidth', None)"
   ]
  },
  {
   "cell_type": "code",
   "execution_count": 3,
   "metadata": {},
   "outputs": [
    {
     "data": {
      "text/html": [
       "<div>\n",
       "<style scoped>\n",
       "    .dataframe tbody tr th:only-of-type {\n",
       "        vertical-align: middle;\n",
       "    }\n",
       "\n",
       "    .dataframe tbody tr th {\n",
       "        vertical-align: top;\n",
       "    }\n",
       "\n",
       "    .dataframe thead th {\n",
       "        text-align: right;\n",
       "    }\n",
       "</style>\n",
       "<table border=\"1\" class=\"dataframe\">\n",
       "  <thead>\n",
       "    <tr style=\"text-align: right;\">\n",
       "      <th></th>\n",
       "      <th>abstract</th>\n",
       "    </tr>\n",
       "  </thead>\n",
       "  <tbody>\n",
       "    <tr>\n",
       "      <th>0</th>\n",
       "      <td>The paper reviews the existing and state-of-the-art computer-aided technologies and computational techniques, which can be applied to jewelry design and casting. A broad array of techniques are selected and ordered into three key parts: design; model-making; and casting, that outline the core of computer-aided jewelry design and casting. Computer-aided design and haptic technologies are surveyed in the purposes of supporting the design of jewelry and shape modeling. Rapid prototyping and...</td>\n",
       "    </tr>\n",
       "    <tr>\n",
       "      <th>1</th>\n",
       "      <td>At present, many projects embed smart LEDs \"multiple LEDs dynamically controlled by computers\" into clothes or accessories to support novel expressions or daily activities. However, most of them do not consider the \"sparkle\" of traditional jewelry. We propose a presentation technique for interactive jewelry called \"Sparklry\", which can present \"sparkles\" on a jewel stone using internal LEDs. These sparkles are designed by integrating (1) a traditional jewel, (2) a light shielding sheet with small slits, and (3) an LED array. We developed a prototype and several examples of jewelry to explore appropriate designs of slits and LED patterns. Moreover, we developed two prototypes.</td>\n",
       "    </tr>\n",
       "    <tr>\n",
       "      <th>2</th>\n",
       "      <td>Tradition and modernity are the eternal topics of art, especially in the age of information.Efficient mechanical production methods to improve the traditional jewelry production process, which achieved the demand for mass production of jewelry.However, with the development of society and the progress of science and technology, many traditional arts and crafts are lost.From the traditional culture, this paper analyzes the work of embroidery jewelry by studying the traditional Chinese embroidery culture and technique, summarizes the traditional embroidery technology and modern jewelry design techniques combined approach to guide the creative practice.On the basis of studying the theoretical method of combining traditional embroidery technology with modern jewelry, this paper focuses on the application of traditional embroidery techniques in jewelry creation, inspire the potential of traditional craft, to provide reference for modern jewelry design rich Chinese characteristics and attract the attention of Chinese jewelry industry and inherit the traditional arts.</td>\n",
       "    </tr>\n",
       "    <tr>\n",
       "      <th>3</th>\n",
       "      <td>Jewelry weaves into our everyday lives as no other wearable does. It comes in many wearable forms, is fashionable, and can adorn any part of the body. In this paper, through an exploratory, Research through Design (RtD) process, we tap into this vast potential space of input interaction that jewelry can enable. We do so by first identifying a small set of fundamental structural elements-called Jewelements-that any jewelry is composed of, and then defining their properties that enable the interaction. We leverage this synthesis along with observational data and literature to formulate a design space of jewelry-enabled input techniques. This work encapsulates both the extensions of common existing input methods (e.g., touch) as well as new ones inspired by jewelry. Furthermore, we discuss our prototypical sensor-based implementations. Through this work, we invite the community to engage in the conversation on how jewelry as a material can help shape wearable-based input.</td>\n",
       "    </tr>\n",
       "    <tr>\n",
       "      <th>4</th>\n",
       "      <td>This study intended to determine the level of awareness by the Kelantan Jewellers House on how much is the impact of gold losses during the jewelry-making process to their business. The study focuses more on Kelantan State due to their popularity and existence of a chain of small and traditional craftsmen. Most local operators are still preserving the traditional way of fabrication and production techniques, tools, methods whilst maintaining the Malay aesthetic value in all aspects of fabrication. This unique value proposition inherited from their legacy lineage was taught throughout the generations and now adopted by the younger craftsmen in rank. Ironically, the manual process and traditional fabrication techniques were seen as less efficient due to the higher amount of gold scrap as compared to modern techniques.Hence, this paper aims to ascertain the findings and to validate the assumptions that the manual and traditional technique does indeed contributes to a higher amount of gold losses that adversely affecting the yield and economic returns of the small fabricators in Kelantan, whilst formulating the right action plans to mitigate and resolve the issues effectively.</td>\n",
       "    </tr>\n",
       "    <tr>\n",
       "      <th>...</th>\n",
       "      <td>...</td>\n",
       "    </tr>\n",
       "    <tr>\n",
       "      <th>79</th>\n",
       "      <td>Current digital design tools rapid prototyping techniques are today still misunderstood due to their poor accessibility and ease of use that limit their diffusion. However, additive manufacturing technology can produce a positive impact both in design and in production processes. Compared to the traditional productions, it produces a renewal of the design activity and, as such, it needs to be more explored. 3D Printing raises a new vision of mass production, which is in contrast to what the Industrial Revolution proposed years ago; it indeed separates the mass-produced items from production machineries, moving directly to a new idea of 'customization'. Since today the production capacity is no longer based only on the replicability of the single product, this work explores the role of 3D Printing for customizable jewelry products for mass production. It emphasizes the design role by bringing back the idea of production toward a sense of contemporary craftsmanship in which every good expresses an own beauty by imperceptible uniqueness. The essence of this new vision based on designable uniqueness has to be found beyond to the idea of mass production. Current experiments on materials' expressivity and generative design, contribute to define a new approach based on the idea of 'customizable mass customization'.</td>\n",
       "    </tr>\n",
       "    <tr>\n",
       "      <th>80</th>\n",
       "      <td>This research aims to development of Dan-Kwian ceramic jewelry from past to present. In terms of design, the raw materials and decorative techniques used in designed and developed Dan-Kwian ceramic jewelry for unique contemporary beauty. As a result, developed from the original by adopting simple shapes of geometry to be used for modern purposes, the emphasis is on creating different sizes in jewelry, which are large, medium and small. And highlight the color of clay body to light, medium and dark. The raw materials used to create Dan-Kwian ceramic jewelry prototype is Dan-Kwian clay mixed with kaolin and compound clay. At difference mixing ratio to determine the shade, then design and create masterpieces. Test fired with electric furnace at 800 and 1200 degree Celsius, emphasize the natural brown and orange color of clay body. Decorated with smoked technique with rice husk in clay pot using charcoal stove owing to create a black color in the finished workpiece. Then, put it to sort the appropriate of each set. After that, design a piece of 5 different styles, in which the set consists of necklaces, bracelets and earrings. The most popular set of Dan-Kwian ceramic jewelry from the producer group is the first set inspired by the sphere, which can be prepared easily. Outstanding, the attraction is that the sphere in the center can be rotated. And the dark color in the center contrasted with the light outer circle. Overall, the five set are well received by the producer group. Make a way to see how to produce for sale, by selling it with existing products.</td>\n",
       "    </tr>\n",
       "    <tr>\n",
       "      <th>81</th>\n",
       "      <td>An overview of the use of the elemental composition of gold in the study of manufacturing technologies for objects as well as of the provenance of the metal is given. Depending on the objects, techniques based either on atomic physics or on nuclear physics and mass spectrometry are required to answer the questions surrounding the process of metalworking in the past. Several archaeological examples covering different periods of time and involving diverse analytical techniques are presented here. With those examples we illustrate the main research questions on precious objects and coins and show how far the elemental analysis of the objects can reveal the way they were made and provide information on the origin of the gold.</td>\n",
       "    </tr>\n",
       "    <tr>\n",
       "      <th>82</th>\n",
       "      <td>This study is an investigation into specialised techniques which can aid the establishment of a unique South African jewellery design style in order to enhance commercial and contemporary jewellery. The initial impetus for this investigation was informed by conclusions drawn and recommendations proffered by various previous studies which indicated that the lack of uniqueness of South African jewellery concepts as well as the replication of Western or Eurocentric trends in local jewellery have resulted in South African jewellery being an unmarketable brand abroad. The study showcases the development of diverse techniques which has increasingly become obsolete in the modern South African epoch of commercial jewellery. This study argues that the primary inclination of jewellery designers and especially from European immigrant origin to simply employ traditional African crafts, patterns and artefacts as inspiration for formulating a South African style of jewellery, has in the past traversed the portrayal of African culture as primitive. As a remedial approach this study delineates on the possibilities of designers employing and developing an auto-ethnographic design style whilst also incorporating specialist techniques in the pursuit of self-expression in jewellery design. This study argues that such an approach will lead to a more unique and representative jewellery design style and which will be a more appropriate or authentic representation of South Africa's diversity. Considering that South Africa is a major producer of precious metals and precious stones whilst only producing roughly 2% of the world's jewellery, the South African government has in recent years invested heavily in the jewellery industry with a view on its advancement and growth. Subsequently, this investigation additionally delineates on views of jewellery specialists on the state of jewellery design and manufacture in South Africa in order to formulate recommendations for the South African jewellery industry to propagate a progressively more mature industry.</td>\n",
       "    </tr>\n",
       "    <tr>\n",
       "      <th>83</th>\n",
       "      <td>The contemporary jewelry is characterized for its multidimensionality where simultaneously distinct styles, notions, interpretations, concepts, production techniques coexist, that oscillate from the most traditional to the most technological or from the fusion among them redefining the crafts. Our era is described as the digital one, where there is a ubiquitous presence of technology that is reshaping contemporary society. This digital ubiquity is also strongly influencing the design practices in many aspects: from the creative process to the production, distribution and the dynamics of consumption involving more participation of the audiences. There is also a phenomenon of hybridization between the digital and the handicraft, between the past and future; the digital environment is an opportunity for unprecedented freedom of creation which is opening new paths for jewelry explorations. In this way, it is pertinent to consider at what point if the current society is not thinkable without technology, it is tempting to see a re-conceptualization of the ancestral in the XXI century to be unthinkable under its influence. Therefore, this project glimpses the potential of reference as pre-Columbian goldsmith cultures to permeate current and future scenarios. The project became an encounter of pre-Columbian past under the new digital creation that is also driven by 3D printing, one of the leading fabrication techniques of our days. Iconographic elements of pre-Columbian cultures of the Colombian territory are being reinterpreted based on the experimentation with digital tools of CAD modeling that suggests new languages, new ways of formulating new ideas, which are evidenced not only in the aesthetics of the products but also in their conception. That pre-Colombian past, which remains latent today, is being transported into a contemporary context, of the digital, of the technological, of mutability as well as collaborative creation.</td>\n",
       "    </tr>\n",
       "  </tbody>\n",
       "</table>\n",
       "<p>84 rows × 1 columns</p>\n",
       "</div>"
      ],
      "text/plain": [
       "                                                                                                                                                                                                                                                                                                                                                                                                                                                                                                                                                                                                                                                                                                                                                                                                                                                                                                                                                                                                                                                                                                                                                                                                                                                                                                                                                                                                                                                                                                                                                                                                                                                                                                                                                                                                                                                                                                                                                                                                                                                                                                                                          abstract\n",
       "0                                                                                                                                                                                                                                                                                                                                                                                                                                                                                                                                                                                                                                                                                                                                                                                                                                                                                                                                                                                                                                                                                                                                                                                                                                                                                                                                                                                                                                                                                                                                                                                                                                  The paper reviews the existing and state-of-the-art computer-aided technologies and computational techniques, which can be applied to jewelry design and casting. A broad array of techniques are selected and ordered into three key parts: design; model-making; and casting, that outline the core of computer-aided jewelry design and casting. Computer-aided design and haptic technologies are surveyed in the purposes of supporting the design of jewelry and shape modeling. Rapid prototyping and...\n",
       "1                                                                                                                                                                                                                                                                                                                                                                                                                                                                                                                                                                                                                                                                                                                                                                                                                                                                                                                                                                                                                                                                                                                                                                                                                                                                                                                                                                                                                                     At present, many projects embed smart LEDs \"multiple LEDs dynamically controlled by computers\" into clothes or accessories to support novel expressions or daily activities. However, most of them do not consider the \"sparkle\" of traditional jewelry. We propose a presentation technique for interactive jewelry called \"Sparklry\", which can present \"sparkles\" on a jewel stone using internal LEDs. These sparkles are designed by integrating (1) a traditional jewel, (2) a light shielding sheet with small slits, and (3) an LED array. We developed a prototype and several examples of jewelry to explore appropriate designs of slits and LED patterns. Moreover, we developed two prototypes.\n",
       "2                                                                                                                                                                                                                                                                                                                                                                                                                                                                                                                                                                                                                                                                                                                                                                                                                                                                                                                                                                                                                             Tradition and modernity are the eternal topics of art, especially in the age of information.Efficient mechanical production methods to improve the traditional jewelry production process, which achieved the demand for mass production of jewelry.However, with the development of society and the progress of science and technology, many traditional arts and crafts are lost.From the traditional culture, this paper analyzes the work of embroidery jewelry by studying the traditional Chinese embroidery culture and technique, summarizes the traditional embroidery technology and modern jewelry design techniques combined approach to guide the creative practice.On the basis of studying the theoretical method of combining traditional embroidery technology with modern jewelry, this paper focuses on the application of traditional embroidery techniques in jewelry creation, inspire the potential of traditional craft, to provide reference for modern jewelry design rich Chinese characteristics and attract the attention of Chinese jewelry industry and inherit the traditional arts.\n",
       "3                                                                                                                                                                                                                                                                                                                                                                                                                                                                                                                                                                                                                                                                                                                                                                                                                                                                                                                                                                                                                                                                                                                          Jewelry weaves into our everyday lives as no other wearable does. It comes in many wearable forms, is fashionable, and can adorn any part of the body. In this paper, through an exploratory, Research through Design (RtD) process, we tap into this vast potential space of input interaction that jewelry can enable. We do so by first identifying a small set of fundamental structural elements-called Jewelements-that any jewelry is composed of, and then defining their properties that enable the interaction. We leverage this synthesis along with observational data and literature to formulate a design space of jewelry-enabled input techniques. This work encapsulates both the extensions of common existing input methods (e.g., touch) as well as new ones inspired by jewelry. Furthermore, we discuss our prototypical sensor-based implementations. Through this work, we invite the community to engage in the conversation on how jewelry as a material can help shape wearable-based input.\n",
       "4                                                                                                                                                                                                                                                                                                                                                                                                                                                                                                                                                                                                                                                                                                                                                                                                                                                                                                          This study intended to determine the level of awareness by the Kelantan Jewellers House on how much is the impact of gold losses during the jewelry-making process to their business. The study focuses more on Kelantan State due to their popularity and existence of a chain of small and traditional craftsmen. Most local operators are still preserving the traditional way of fabrication and production techniques, tools, methods whilst maintaining the Malay aesthetic value in all aspects of fabrication. This unique value proposition inherited from their legacy lineage was taught throughout the generations and now adopted by the younger craftsmen in rank. Ironically, the manual process and traditional fabrication techniques were seen as less efficient due to the higher amount of gold scrap as compared to modern techniques.Hence, this paper aims to ascertain the findings and to validate the assumptions that the manual and traditional technique does indeed contributes to a higher amount of gold losses that adversely affecting the yield and economic returns of the small fabricators in Kelantan, whilst formulating the right action plans to mitigate and resolve the issues effectively.\n",
       "..                                                                                                                                                                                                                                                                                                                                                                                                                                                                                                                                                                                                                                                                                                                                                                                                                                                                                                                                                                                                                                                                                                                                                                                                                                                                                                                                                                                                                                                                                                                                                                                                                                                                                                                                                                                                                                                                                                                                                                                                                                                                                                                                             ...\n",
       "79                                                                                                                                                                                                                                                                                                                                                                                                                                                                                                                                                                                                                                                                                                                                                               Current digital design tools rapid prototyping techniques are today still misunderstood due to their poor accessibility and ease of use that limit their diffusion. However, additive manufacturing technology can produce a positive impact both in design and in production processes. Compared to the traditional productions, it produces a renewal of the design activity and, as such, it needs to be more explored. 3D Printing raises a new vision of mass production, which is in contrast to what the Industrial Revolution proposed years ago; it indeed separates the mass-produced items from production machineries, moving directly to a new idea of 'customization'. Since today the production capacity is no longer based only on the replicability of the single product, this work explores the role of 3D Printing for customizable jewelry products for mass production. It emphasizes the design role by bringing back the idea of production toward a sense of contemporary craftsmanship in which every good expresses an own beauty by imperceptible uniqueness. The essence of this new vision based on designable uniqueness has to be found beyond to the idea of mass production. Current experiments on materials' expressivity and generative design, contribute to define a new approach based on the idea of 'customizable mass customization'.\n",
       "80                                                                                                                                                                                                                                                                                                                                                                                                                                                                                                     This research aims to development of Dan-Kwian ceramic jewelry from past to present. In terms of design, the raw materials and decorative techniques used in designed and developed Dan-Kwian ceramic jewelry for unique contemporary beauty. As a result, developed from the original by adopting simple shapes of geometry to be used for modern purposes, the emphasis is on creating different sizes in jewelry, which are large, medium and small. And highlight the color of clay body to light, medium and dark. The raw materials used to create Dan-Kwian ceramic jewelry prototype is Dan-Kwian clay mixed with kaolin and compound clay. At difference mixing ratio to determine the shade, then design and create masterpieces. Test fired with electric furnace at 800 and 1200 degree Celsius, emphasize the natural brown and orange color of clay body. Decorated with smoked technique with rice husk in clay pot using charcoal stove owing to create a black color in the finished workpiece. Then, put it to sort the appropriate of each set. After that, design a piece of 5 different styles, in which the set consists of necklaces, bracelets and earrings. The most popular set of Dan-Kwian ceramic jewelry from the producer group is the first set inspired by the sphere, which can be prepared easily. Outstanding, the attraction is that the sphere in the center can be rotated. And the dark color in the center contrasted with the light outer circle. Overall, the five set are well received by the producer group. Make a way to see how to produce for sale, by selling it with existing products.\n",
       "81                                                                                                                                                                                                                                                                                                                                                                                                                                                                                                                                                                                                                                                                                                                                                                                                                                                                                                                                                                                                                                                                                                                                                                                                                                                                                                                                                                                     An overview of the use of the elemental composition of gold in the study of manufacturing technologies for objects as well as of the provenance of the metal is given. Depending on the objects, techniques based either on atomic physics or on nuclear physics and mass spectrometry are required to answer the questions surrounding the process of metalworking in the past. Several archaeological examples covering different periods of time and involving diverse analytical techniques are presented here. With those examples we illustrate the main research questions on precious objects and coins and show how far the elemental analysis of the objects can reveal the way they were made and provide information on the origin of the gold.\n",
       "82  This study is an investigation into specialised techniques which can aid the establishment of a unique South African jewellery design style in order to enhance commercial and contemporary jewellery. The initial impetus for this investigation was informed by conclusions drawn and recommendations proffered by various previous studies which indicated that the lack of uniqueness of South African jewellery concepts as well as the replication of Western or Eurocentric trends in local jewellery have resulted in South African jewellery being an unmarketable brand abroad. The study showcases the development of diverse techniques which has increasingly become obsolete in the modern South African epoch of commercial jewellery. This study argues that the primary inclination of jewellery designers and especially from European immigrant origin to simply employ traditional African crafts, patterns and artefacts as inspiration for formulating a South African style of jewellery, has in the past traversed the portrayal of African culture as primitive. As a remedial approach this study delineates on the possibilities of designers employing and developing an auto-ethnographic design style whilst also incorporating specialist techniques in the pursuit of self-expression in jewellery design. This study argues that such an approach will lead to a more unique and representative jewellery design style and which will be a more appropriate or authentic representation of South Africa's diversity. Considering that South Africa is a major producer of precious metals and precious stones whilst only producing roughly 2% of the world's jewellery, the South African government has in recent years invested heavily in the jewellery industry with a view on its advancement and growth. Subsequently, this investigation additionally delineates on views of jewellery specialists on the state of jewellery design and manufacture in South Africa in order to formulate recommendations for the South African jewellery industry to propagate a progressively more mature industry.\n",
       "83                                                                                                           The contemporary jewelry is characterized for its multidimensionality where simultaneously distinct styles, notions, interpretations, concepts, production techniques coexist, that oscillate from the most traditional to the most technological or from the fusion among them redefining the crafts. Our era is described as the digital one, where there is a ubiquitous presence of technology that is reshaping contemporary society. This digital ubiquity is also strongly influencing the design practices in many aspects: from the creative process to the production, distribution and the dynamics of consumption involving more participation of the audiences. There is also a phenomenon of hybridization between the digital and the handicraft, between the past and future; the digital environment is an opportunity for unprecedented freedom of creation which is opening new paths for jewelry explorations. In this way, it is pertinent to consider at what point if the current society is not thinkable without technology, it is tempting to see a re-conceptualization of the ancestral in the XXI century to be unthinkable under its influence. Therefore, this project glimpses the potential of reference as pre-Columbian goldsmith cultures to permeate current and future scenarios. The project became an encounter of pre-Columbian past under the new digital creation that is also driven by 3D printing, one of the leading fabrication techniques of our days. Iconographic elements of pre-Columbian cultures of the Colombian territory are being reinterpreted based on the experimentation with digital tools of CAD modeling that suggests new languages, new ways of formulating new ideas, which are evidenced not only in the aesthetics of the products but also in their conception. That pre-Colombian past, which remains latent today, is being transported into a contemporary context, of the digital, of the technological, of mutability as well as collaborative creation.\n",
       "\n",
       "[84 rows x 1 columns]"
      ]
     },
     "execution_count": 3,
     "metadata": {},
     "output_type": "execute_result"
    }
   ],
   "source": [
    "data = pd.read_csv(r'C:\\Users\\acer\\Desktop\\314_abstract.csv')\n",
    "data"
   ]
  },
  {
   "cell_type": "code",
   "execution_count": 4,
   "metadata": {},
   "outputs": [
    {
     "data": {
      "text/plain": [
       "['i',\n",
       " 'me',\n",
       " 'my',\n",
       " 'myself',\n",
       " 'we',\n",
       " 'our',\n",
       " 'ours',\n",
       " 'ourselves',\n",
       " 'you',\n",
       " \"you're\",\n",
       " \"you've\",\n",
       " \"you'll\",\n",
       " \"you'd\",\n",
       " 'your',\n",
       " 'yours',\n",
       " 'yourself',\n",
       " 'yourselves',\n",
       " 'he',\n",
       " 'him',\n",
       " 'his',\n",
       " 'himself',\n",
       " 'she',\n",
       " \"she's\",\n",
       " 'her',\n",
       " 'hers',\n",
       " 'herself',\n",
       " 'it',\n",
       " \"it's\",\n",
       " 'its',\n",
       " 'itself',\n",
       " 'they',\n",
       " 'them',\n",
       " 'their',\n",
       " 'theirs',\n",
       " 'themselves',\n",
       " 'what',\n",
       " 'which',\n",
       " 'who',\n",
       " 'whom',\n",
       " 'this',\n",
       " 'that',\n",
       " \"that'll\",\n",
       " 'these',\n",
       " 'those',\n",
       " 'am',\n",
       " 'is',\n",
       " 'are',\n",
       " 'was',\n",
       " 'were',\n",
       " 'be',\n",
       " 'been',\n",
       " 'being',\n",
       " 'have',\n",
       " 'has',\n",
       " 'had',\n",
       " 'having',\n",
       " 'do',\n",
       " 'does',\n",
       " 'did',\n",
       " 'doing',\n",
       " 'a',\n",
       " 'an',\n",
       " 'the',\n",
       " 'and',\n",
       " 'but',\n",
       " 'if',\n",
       " 'or',\n",
       " 'because',\n",
       " 'as',\n",
       " 'until',\n",
       " 'while',\n",
       " 'of',\n",
       " 'at',\n",
       " 'by',\n",
       " 'for',\n",
       " 'with',\n",
       " 'about',\n",
       " 'against',\n",
       " 'between',\n",
       " 'into',\n",
       " 'through',\n",
       " 'during',\n",
       " 'before',\n",
       " 'after',\n",
       " 'above',\n",
       " 'below',\n",
       " 'to',\n",
       " 'from',\n",
       " 'up',\n",
       " 'down',\n",
       " 'in',\n",
       " 'out',\n",
       " 'on',\n",
       " 'off',\n",
       " 'over',\n",
       " 'under',\n",
       " 'again',\n",
       " 'further',\n",
       " 'then',\n",
       " 'once',\n",
       " 'here',\n",
       " 'there',\n",
       " 'when',\n",
       " 'where',\n",
       " 'why',\n",
       " 'how',\n",
       " 'all',\n",
       " 'any',\n",
       " 'both',\n",
       " 'each',\n",
       " 'few',\n",
       " 'more',\n",
       " 'most',\n",
       " 'other',\n",
       " 'some',\n",
       " 'such',\n",
       " 'no',\n",
       " 'nor',\n",
       " 'not',\n",
       " 'only',\n",
       " 'own',\n",
       " 'same',\n",
       " 'so',\n",
       " 'than',\n",
       " 'too',\n",
       " 'very',\n",
       " 's',\n",
       " 't',\n",
       " 'can',\n",
       " 'will',\n",
       " 'just',\n",
       " 'don',\n",
       " \"don't\",\n",
       " 'should',\n",
       " \"should've\",\n",
       " 'now',\n",
       " 'd',\n",
       " 'll',\n",
       " 'm',\n",
       " 'o',\n",
       " 're',\n",
       " 've',\n",
       " 'y',\n",
       " 'ain',\n",
       " 'aren',\n",
       " \"aren't\",\n",
       " 'couldn',\n",
       " \"couldn't\",\n",
       " 'didn',\n",
       " \"didn't\",\n",
       " 'doesn',\n",
       " \"doesn't\",\n",
       " 'hadn',\n",
       " \"hadn't\",\n",
       " 'hasn',\n",
       " \"hasn't\",\n",
       " 'haven',\n",
       " \"haven't\",\n",
       " 'isn',\n",
       " \"isn't\",\n",
       " 'ma',\n",
       " 'mightn',\n",
       " \"mightn't\",\n",
       " 'mustn',\n",
       " \"mustn't\",\n",
       " 'needn',\n",
       " \"needn't\",\n",
       " 'shan',\n",
       " \"shan't\",\n",
       " 'shouldn',\n",
       " \"shouldn't\",\n",
       " 'wasn',\n",
       " \"wasn't\",\n",
       " 'weren',\n",
       " \"weren't\",\n",
       " 'won',\n",
       " \"won't\",\n",
       " 'wouldn',\n",
       " \"wouldn't\",\n",
       " 'sustainable',\n",
       " 'jewelry',\n",
       " 'materials',\n",
       " 'research',\n",
       " 'material',\n",
       " 'jewellery',\n",
       " 'study',\n",
       " 'sustainability',\n",
       " 'technique',\n",
       " 'design',\n",
       " 'technology',\n",
       " 'paper',\n",
       " 'review',\n",
       " 'article']"
      ]
     },
     "execution_count": 4,
     "metadata": {},
     "output_type": "execute_result"
    }
   ],
   "source": [
    "stop = stopwords.words('english') + [\"sustainable\",\"jewelry\",\"materials\",\"research\",\"material\",\"jewellery\",\"study\",\"sustainability\",\"technique\",\"design\",\"technology\",\"paper\",\"review\",\"article\"]\n",
    "stop"
   ]
  },
  {
   "cell_type": "code",
   "execution_count": 5,
   "metadata": {},
   "outputs": [],
   "source": [
    "def remove_encoding_word(word):\n",
    "    word = str(word)\n",
    "    word = word.encode('ASCII', 'ignore').decode('ASCII')\n",
    "    return word"
   ]
  },
  {
   "cell_type": "code",
   "execution_count": 6,
   "metadata": {},
   "outputs": [],
   "source": [
    "def remove_encoding_text(text):\n",
    "    text = str(text)\n",
    "    text = ' '.join(remove_encoding_word(word) for word in text.split() if word not in stop)\n",
    "    return text"
   ]
  },
  {
   "cell_type": "code",
   "execution_count": 7,
   "metadata": {},
   "outputs": [],
   "source": [
    "#lemmatize the text\n",
    "data['abstract'] = data['abstract'].apply(remove_encoding_text)"
   ]
  },
  {
   "cell_type": "code",
   "execution_count": 8,
   "metadata": {},
   "outputs": [
    {
     "data": {
      "text/plain": [
       "71083"
      ]
     },
     "execution_count": 8,
     "metadata": {},
     "output_type": "execute_result"
    }
   ],
   "source": [
    "text = ' '.join(words for words in data['abstract'])\n",
    "len(text)"
   ]
  },
  {
   "cell_type": "code",
   "execution_count": 9,
   "metadata": {},
   "outputs": [
    {
     "data": {
      "text/plain": [
       "'leaf'"
      ]
     },
     "execution_count": 9,
     "metadata": {},
     "output_type": "execute_result"
    }
   ],
   "source": [
    "lemma = WordNetLemmatizer().lemmatize\n",
    "lemma('leaves')"
   ]
  },
  {
   "cell_type": "code",
   "execution_count": 10,
   "metadata": {},
   "outputs": [],
   "source": [
    "#fit into the tf-idf model\n",
    "def tokenize(document):\n",
    "    tokens = [lemma(w) for w in document.split() if len(w) > 3 and w.isalpha()]\n",
    "    return tokens"
   ]
  },
  {
   "cell_type": "code",
   "execution_count": 11,
   "metadata": {},
   "outputs": [],
   "source": [
    "vectorizer = TfidfVectorizer(tokenizer = tokenize, ngram_range = ((1,1)), stop_words = stop, strip_accents = 'unicode')"
   ]
  },
  {
   "cell_type": "code",
   "execution_count": 12,
   "metadata": {},
   "outputs": [
    {
     "name": "stderr",
     "output_type": "stream",
     "text": [
      "c:\\Users\\acer\\Documents\\Python Scripts\\lib\\site-packages\\sklearn\\feature_extraction\\text.py:401: UserWarning: Your stop_words may be inconsistent with your preprocessing. Tokenizing the stop words generated tokens ['doe'] not in stop_words.\n",
      "  % sorted(inconsistent)\n"
     ]
    }
   ],
   "source": [
    "tdm = vectorizer.fit_transform(data['abstract'])"
   ]
  },
  {
   "cell_type": "code",
   "execution_count": 44,
   "metadata": {},
   "outputs": [
    {
     "data": {
      "text/plain": [
       "dict_items([('existing', 729), ('computational', 367), ('applied', 104), ('broad', 239), ('array', 123), ('selected', 1752), ('ordered', 1369), ('three', 1977), ('outline', 1385), ('core', 431), ('haptic', 902), ('surveyed', 1919), ('purpose', 1581), ('supporting', 1914), ('shape', 1771), ('rapid', 1600), ('prototyping', 1568), ('many', 1203), ('project', 1549), ('embed', 647), ('smart', 1810), ('led', 1135), ('dynamically', 613), ('controlled', 422), ('clothes', 315), ('accessory', 14), ('support', 1913), ('novel', 1328), ('expression', 749), ('daily', 482), ('consider', 390), ('traditional', 2000), ('propose', 1559), ('presentation', 1508), ('interactive', 1052), ('called', 251), ('present', 1507), ('jewel', 1090), ('stone', 1872), ('using', 2064), ('internal', 1057), ('sparkle', 1831), ('designed', 534), ('integrating', 1045), ('light', 1142), ('shielding', 1777), ('sheet', 1776), ('small', 1809), ('developed', 553), ('prototype', 1566), ('several', 1766), ('example', 723), ('explore', 741), ('appropriate', 111), ('slit', 1807), ('tradition', 1999), ('modernity', 1270), ('eternal', 707), ('topic', 1991), ('especially', 699), ('mechanical', 1223), ('production', 1539), ('method', 1240), ('improve', 981), ('achieved', 20), ('demand', 511), ('mass', 1210), ('development', 555), ('society', 1813), ('progress', 1547), ('science', 1736), ('art', 125), ('craft', 445), ('analyzes', 86), ('work', 2137), ('embroidery', 649), ('studying', 1888), ('chinese', 299), ('culture', 468), ('summarizes', 1909), ('modern', 1269), ('combined', 337), ('approach', 110), ('guide', 891), ('creative', 456), ('basis', 182), ('theoretical', 1961), ('combining', 338), ('focus', 804), ('application', 103), ('inspire', 1036), ('potential', 1486), ('provide', 1571), ('reference', 1630), ('rich', 1701), ('characteristic', 287), ('attract', 155), ('attention', 153), ('industry', 1013), ('inherit', 1024), ('weave', 2111), ('everyday', 716), ('life', 1141), ('wearable', 2110), ('come', 339), ('adorn', 40), ('part', 1407), ('vast', 2077), ('space', 1829), ('input', 1031), ('interaction', 1051), ('first', 796), ('identifying', 951), ('fundamental', 837), ('structural', 1883), ('composed', 362), ('defining', 507), ('property', 1557), ('enable', 664), ('leverage', 1139), ('synthesis', 1929), ('along', 68), ('observational', 1340), ('data', 484), ('literature', 1155), ('formulate', 819), ('encapsulates', 668), ('extension', 753), ('common', 343), ('well', 2119), ('one', 1352), ('inspired', 1037), ('discus', 576), ('prototypical', 1567), ('invite', 1079), ('community', 345), ('engage', 674), ('conversation', 426), ('help', 913), ('intended', 1049), ('determine', 549), ('level', 1138), ('awareness', 174), ('kelantan', 1101), ('jeweller', 1092), ('house', 936), ('much', 1287), ('impact', 966), ('gold', 867), ('loss', 1170), ('process', 1532), ('state', 1857), ('popularity', 1470), ('existence', 728), ('chain', 279), ('local', 1159), ('operator', 1359), ('still', 1871), ('preserving', 1514), ('fabrication', 761), ('whilst', 2123), ('maintaining', 1182), ('malay', 1192), ('aesthetic', 47), ('value', 2071), ('aspect', 136), ('unique', 2046), ('proposition', 1562), ('inherited', 1026), ('legacy', 1137), ('lineage', 1149), ('taught', 1941), ('throughout', 1978), ('generation', 850), ('adopted', 38), ('younger', 2151), ('craftsman', 448), ('manual', 1197), ('seen', 1750), ('le', 1130), ('efficient', 633), ('higher', 919), ('amount', 79), ('scrap', 1740), ('compared', 350), ('aim', 56), ('ascertain', 135), ('finding', 785), ('validate', 2070), ('assumption', 146), ('indeed', 998), ('contributes', 419), ('adversely', 46), ('affecting', 48), ('yield', 2149), ('economic', 622), ('return', 1689), ('fabricator', 762), ('formulating', 820), ('right', 1704), ('action', 24), ('plan', 1453), ('mitigate', 1259), ('resolve', 1677), ('issue', 1087), ('demonstrate', 512), ('utility', 2066), ('raman', 1596), ('spectroscopy', 1844), ('identification', 947), ('ancient', 91), ('glass', 860), ('enamel', 667), ('coating', 320), ('silicate', 1788), ('addition', 32), ('network', 1316), ('modifier', 1272), ('break', 233), ('linkage', 1151), ('modifies', 1273), ('degree', 508), ('polymerisation', 1466), ('hence', 915), ('relative', 1647), ('intensity', 1050), ('bending', 200), ('stretching', 1878), ('empirically', 659), ('ratio', 1604), ('envelope', 693), ('correlated', 432), ('structure', 1884), ('used', 2060), ('firing', 794), ('spectral', 1842), ('component', 361), ('assigned', 141), ('isolated', 1086), ('connected', 386), ('vibrational', 2081), ('unit', 2048), ('allow', 61), ('precise', 1497), ('pottery', 1487), ('representative', 1666), ('different', 563), ('islamic', 1085), ('european', 710), ('porcelain', 1472), ('compositional', 365), ('ensured', 688), ('digitalization', 569), ('introduction', 1067), ('manufacturing', 1202), ('characterized', 289), ('poorly', 1468), ('studied', 1886), ('communication', 344), ('integration', 1046), ('form', 812), ('ecosystem', 625), ('subject', 1891), ('various', 2075), ('conducted', 378), ('propounded', 1563), ('based', 180), ('implementation', 973), ('integrated', 1044), ('system', 1932), ('involves', 1081), ('parametric', 1403), ('additive', 34), ('analyzed', 85), ('guarantee', 890), ('platform', 1457), ('slicing', 1805), ('software', 1814), ('stereolithographic', 1868), ('script', 1742), ('implemented', 974), ('order', 1368), ('solve', 1819), ('optimization', 1363), ('problem', 1530), ('modeling', 1268), ('object', 1337), ('exploring', 744), ('bead', 185), ('making', 1189), ('prominent', 1550), ('area', 120), ('ghana', 856), ('mean', 1218), ('exposing', 747), ('metal', 1233), ('ceramic', 277), ('artist', 130), ('related', 1643), ('field', 778), ('discipline', 574), ('criticism', 462), ('complement', 356), ('better', 206), ('livelihood', 1157), ('diversification', 592), ('producing', 1537), ('emphasis', 655), ('placed', 1452), ('involved', 1080), ('mostly', 1281), ('identified', 948), ('indigenous', 1005), ('cheap', 292), ('readily', 1608), ('available', 169), ('need', 1314), ('become', 191), ('engaging', 677), ('skill', 1803), ('complex', 360), ('learnt', 1133), ('individual', 1006), ('nation', 1303), ('earn', 618), ('foreign', 811), ('exchange', 725), ('export', 745), ('seek', 1749), ('expose', 746), ('also', 70), ('solving', 1820), ('timber', 1980), ('cocoa', 321), ('compete', 353), ('product', 1538), ('world', 2141), ('experimental', 735), ('descriptive', 530), ('critical', 461), ('observation', 1339), ('equipment', 697), ('paramount', 1404), ('interview', 1063), ('authenticate', 160), ('fact', 767), ('recommended', 1617), ('institution', 1038), ('scale', 1730), ('attach', 148), ('importance', 977), ('improving', 983), ('innovation', 1029), ('designing', 536), ('strategic', 1876), ('open', 1355), ('diverse', 591), ('concept', 371), ('artifact', 127), ('reap', 1611), ('enormous', 686), ('benefit', 202), ('established', 703), ('proficiency', 1543), ('medical', 1224), ('offer', 1348), ('quick', 1590), ('change', 283), ('investigates', 1076), ('ornament', 1379), ('carried', 262), ('rhinoceros', 1699), ('brief', 234), ('overview', 1390), ('alert', 57), ('device', 558), ('like', 1144), ('watch', 2105), ('could', 437), ('ornamental', 1380), ('health', 905), ('check', 294), ('condition', 376), ('heart', 906), ('calorie', 253), ('burn', 248), ('sleep', 1804), ('customized', 475), ('manufactured', 1200), ('collected', 327), ('symbolism', 1925), ('turn', 2025), ('type', 2029), ('visualization', 2092), ('texture', 1959), ('enciphered', 670), ('century', 276), ('belongs', 197), ('digital', 568), ('lead', 1131), ('innovative', 1030), ('thinking', 1970), ('creation', 455), ('silver', 1790), ('craftsmanship', 449), ('contemporary', 408), ('goldwork', 870), ('spanning', 1830), ('time', 1981), ('possible', 1485), ('context', 410), ('combination', 335), ('composite', 363), ('make', 1186), ('analysis', 82), ('summarized', 1908), ('creator', 459), ('previous', 1517), ('limited', 1147), ('framework', 828), ('idea', 944), ('restricted', 1684), ('want', 2102), ('weld', 2117), ('extremely', 759), ('fine', 786), ('avoid', 172), ('position', 1479), ('welding', 2118), ('hollow', 931), ('complete', 357), ('repair', 1656), ('function', 834), ('continuous', 413), ('provides', 1573), ('strong', 1880), ('forming', 817), ('drive', 606), ('sample', 1726), ('found', 823), ('good', 871), ('bring', 237), ('full', 833), ('develop', 552), ('within', 2131), ('chemical', 295), ('composition', 364), ('four', 825), ('belong', 196), ('benaki', 199), ('collection', 328), ('greece', 882), ('dating', 488), ('performed', 1431), ('portable', 1473), ('fluorescence', 803), ('result', 1686), ('shown', 1783), ('categorized', 267), ('include', 986), ('made', 1177), ('native', 1305), ('high', 918), ('purity', 1580), ('provided', 1572), ('interesting', 1055), ('information', 1020), ('regarding', 1637), ('authenticity', 161), ('limitation', 1146), ('archaeological', 115), ('direct', 572), ('laser', 1119), ('sintering', 1797), ('advanced', 42), ('printing', 1527), ('beneficial', 201), ('precious', 1495), ('price', 1519), ('determinative', 548), ('ring', 1705), ('fabricated', 760), ('machine', 1175), ('dmls', 596), ('proper', 1555), ('geometry', 855), ('parameter', 1402), ('showed', 1782), ('reduced', 1628), ('powder', 1488), ('required', 1669), ('locally', 1160), ('specified', 1840), ('stainless', 1852), ('steel', 1865), ('quality', 1584), ('final', 783), ('produced', 1535), ('demonstrated', 513), ('inferior', 1014), ('built', 243), ('conventional', 424), ('utilizing', 2069), ('electron', 640), ('microscope', 1244), ('microstructures', 1246), ('obtained', 1344), ('detail', 545), ('polishing', 1463), ('polisher', 1462), ('revealed', 1691), ('maximum', 1217), ('homogeneous', 932), ('surface', 1915), ('titanium', 1982), ('concluded', 373), ('usage', 2059), ('experience', 733), ('heavy', 910), ('load', 1158), ('quite', 1592), ('scientific', 1737), ('manufacture', 1199), ('last', 1120), ('year', 2146), ('latvia', 1126), ('aggregated', 54), ('database', 485), ('created', 452), ('author', 162), ('internet', 1059), ('contains', 407), ('latvian', 1127), ('photograph', 1444), ('period', 1432), ('june', 1096), ('photo', 1443), ('creating', 454), ('abovementioned', 3), ('described', 527), ('point', 1460), ('view', 2083), ('statistical', 1861), ('specific', 1839), ('give', 857), ('assessment', 140), ('metalworking', 1239), ('today', 1983), ('thread', 1976), ('knitted', 1105), ('attributed', 158), ('tendency', 1951), ('people', 1425), ('greatly', 881), ('appreciate', 108), ('handicraft', 898), ('engaged', 675), ('looking', 1169), ('statistic', 1860), ('woman', 2134), ('nowadays', 1330), ('historically', 925), ('handled', 900), ('knitting', 1106), ('transfer', 2004), ('history', 927), ('decade', 492), ('marked', 1206), ('increase', 994), ('processing', 1533), ('amber', 74), ('pearl', 1421), ('important', 978), ('grow', 887), ('indonesia', 1008), ('consumer', 402), ('detailed', 546), ('selling', 1754), ('industrial', 1011), ('demonstrates', 514), ('engineering', 679), ('company', 346), ('indonesian', 1009), ('nuanza', 1332), ('batik', 184), ('pattern', 1419), ('chosen', 301), ('basic', 181), ('pendant', 1424), ('us', 2058), ('zbrush', 2152), ('model', 1265), ('powermill', 1490), ('show', 1780), ('optimal', 1362), ('machining', 1176), ('toolpath', 1990), ('strategy', 1877), ('horizontal', 935), ('parallel', 1401), ('finishing', 792), ('roughening', 1714), ('optimize', 1364), ('constant', 397), ('step', 1866), ('shallow', 1770), ('increased', 995), ('twice', 2028), ('utilization', 2067), ('educational', 627), ('class', 307), ('reflection', 1636), ('education', 626), ('reached', 1607), ('desired', 538), ('teaching', 1943), ('conjunction', 385), ('knowledge', 1108), ('facilitate', 765), ('preservice', 1513), ('pedagogy', 1423), ('content', 409), ('video', 2082), ('qualitative', 1583), ('dimension', 571), ('pedagogical', 1422), ('question', 1589), ('tool', 1988), ('group', 886), ('consisted', 394), ('teacher', 1942), ('classroom', 311), ('researcher', 1673), ('lectured', 1134), ('instructional', 1039), ('course', 441), ('following', 808), ('conclusion', 374), ('according', 16), ('positive', 1481), ('effect', 628), ('entertaining', 691), ('primarily', 1520), ('focused', 805), ('including', 989), ('computer', 368), ('aided', 55), ('devoted', 559), ('understanding', 2040), ('practice', 1493), ('methodology', 1241), ('rationale', 1605), ('understand', 2039), ('nature', 1307), ('designer', 535), ('reason', 1612), ('create', 451), ('understood', 2041), ('intuitive', 1069), ('artistically', 132), ('driven', 607), ('standpoint', 1854), ('experimentally', 736), ('focusing', 806), ('resolving', 1678), ('challenge', 280), ('natural', 1306), ('spinel', 1848), ('color', 330), ('resembling', 1674), ('ruby', 1719), ('saturated', 1729), ('balas', 179), ('beautiful', 188), ('range', 1597), ('pastel', 1416), ('shade', 1767), ('blended', 219), ('either', 635), ('orange', 1367), ('objective', 1338), ('investigate', 1074), ('origin', 1376), ('blending', 220), ('optical', 1361), ('gemstone', 846), ('beam', 186), ('particle', 1410), ('induced', 1010), ('emission', 653), ('employed', 661), ('geochemical', 853), ('alternative', 71), ('treatment', 2013), ('appearance', 101), ('enhancement', 682), ('burmese', 247), ('implanted', 971), ('energy', 672), ('fluence', 802), ('subsequently', 1894), ('photoluminescence', 1446), ('heated', 907), ('undergone', 2038), ('engineered', 678), ('heating', 908), ('transformed', 2006), ('normal', 1321), ('inverse', 1072), ('disordered', 580), ('thus', 1979), ('disorder', 579), ('might', 1247), ('criterion', 460), ('crystalline', 466), ('remains', 1652), ('almost', 67), ('slightly', 1806), ('future', 841), ('elsevier', 646), ('fourth', 826), ('hoard', 928), ('samarian', 1725), ('coin', 323), ('samaria', 1724), ('nablus', 1297), ('consists', 396), ('examined', 722), ('visual', 2091), ('microscopy', 1245), ('enhance', 681), ('past', 1414), ('metallurgical', 1236), ('joint', 1095), ('artefact', 126), ('containing', 406), ('percentage', 1427), ('copper', 429), ('concentration', 370), ('measured', 1222), ('joining', 1094), ('indicates', 1003), ('similar', 1791), ('granulating', 875), ('indicating', 1004), ('trained', 2002), ('although', 72), ('burial', 246), ('date', 486), ('earlier', 615), ('noted', 1324), ('continuity', 412), ('apparent', 99), ('analysed', 81), ('technological', 1947), ('ability', 0), ('late', 1121), ('province', 1574), ('bear', 187), ('implication', 976), ('annotated', 93), ('personal', 1435), ('interpersonal', 1060), ('posit', 1478), ('connection', 387), ('furthering', 839), ('relationship', 1646), ('beyond', 207), ('functionality', 836), ('efficiency', 632), ('traditionally', 2001), ('crafted', 446), ('usually', 2065), ('serve', 1759), ('particular', 1411), ('functional', 835), ('emotional', 654), ('wedding', 2112), ('heirloom', 911), ('look', 1168), ('inform', 1018), ('meaningful', 1220), ('portfolio', 1474), ('attempt', 149), ('exemplify', 726), ('typically', 2031), ('tacit', 1933), ('annotation', 94), ('desire', 537), ('driver', 608), ('engagement', 676), ('useful', 2061), ('current', 470), ('novelty', 1329), ('link', 1150), ('achieve', 19), ('deeper', 502), ('person', 1434), ('sense', 1755), ('emerging', 652), ('every', 715), ('utilize', 2068), ('influence', 1015), ('contribute', 417), ('thoughtful', 1975), ('thorough', 1972), ('helping', 914), ('enables', 666), ('richer', 1702), ('santa', 1727), ('symposium', 1928), ('held', 912), ('attended', 151), ('registrant', 1639), ('came', 255), ('outside', 1386), ('given', 858), ('half', 894), ('andrea', 92), ('hill', 922), ('gave', 845), ('short', 1779), ('introductory', 1068), ('talk', 1936), ('start', 1855), ('day', 489), ('continuing', 411), ('series', 1758), ('management', 1195), ('selection', 1753), ('nondestructive', 1320), ('minimally', 1253), ('destructive', 544), ('bulk', 244), ('indicate', 1001), ('presented', 1509), ('brazing', 232), ('contact', 404), ('melting', 1228), ('decorating', 496), ('plastic', 1455), ('southern', 1828), ('working', 2139), ('luxury', 1173), ('sector', 1747), ('variety', 2074), ('ranging', 1599), ('private', 1529), ('enterprise', 690), ('global', 865), ('posse', 1482), ('differing', 565), ('control', 421), ('promotion', 1553), ('considered', 392), ('referred', 1631), ('maker', 1187), ('major', 1184), ('autonomy', 167), ('craftsperson', 450), ('represents', 1667), ('deeply', 503), ('category', 268), ('find', 784), ('logic', 1163), ('deskills', 539), ('jeweler', 1091), ('parcel', 1405), ('technician', 1946), ('interest', 1054), ('done', 602), ('illustrates', 958), ('varying', 2076), ('consciousness', 389), ('lack', 1114), ('thereof', 1965), ('professional', 1541), ('identity', 952), ('mosaic', 1280), ('tessarae', 1954), ('tunisia', 2023), ('differentiation', 564), ('others', 1382), ('synthetic', 1931), ('mineral', 1251), ('discussed', 577), ('green', 883), ('coloured', 333), ('known', 1109), ('toxic', 1996), ('widely', 2128), ('mining', 1254), ('extraction', 758), ('recovery', 1622), ('crushed', 465), ('ore', 1370), ('electroplating', 641), ('cyanide', 477), ('toxicity', 1997), ('occurs', 1347), ('compound', 366), ('strongly', 1882), ('bind', 212), ('inactivating', 984), ('metalloenzymes', 1234), ('cytochrome', 481), ('despite', 541), ('cyanotrophic', 478), ('microorganism', 1243), ('alkaliphilic', 59), ('bacterium', 178), ('pseudomonas', 1576), ('pseudoalcaligenes', 1575), ('derivative', 525), ('nitrogen', 1319), ('source', 1826), ('biodegradation', 214), ('cyanurated', 479), ('waste', 2104), ('transcriptomic', 2003), ('proteomic', 1565), ('holistic', 930), ('insight', 1034), ('genetic', 852), ('background', 177), ('biotechnological', 215), ('item', 1088), ('egyptian', 634), ('national', 1304), ('museum', 1292), ('royal', 1718), ('unearthed', 2043), ('dated', 487), ('scanning', 1731), ('elementary', 644), ('alloy', 65), ('solder', 1816), ('investigated', 1075), ('preliminary', 1501), ('evolution', 719), ('alluvial', 66), ('goldsmith', 868), ('granulation', 876), ('hand', 895), ('includes', 988), ('costly', 436), ('master', 1211), ('country', 439), ('follows', 809), ('recent', 1614), ('supply', 1912), ('increasing', 996), ('particularly', 1412), ('annual', 95), ('dedicated', 500), ('memory', 1230), ('roland', 1711), ('frequent', 830), ('contributor', 420), ('booksmall', 226), ('refining', 1633), ('iader', 942), ('milani', 1250), ('relevance', 1649), ('registered', 1638), ('attendee', 152), ('determining', 551), ('fineness', 787), ('challenging', 281), ('task', 1940), ('testing', 1957), ('allowing', 63), ('counterfeiting', 438), ('popular', 1469), ('influenced', 1016), ('matrix', 1214), ('tomography', 1987), ('proposed', 1560), ('assay', 139), ('grey', 884), ('reconstructed', 1619), ('tomographic', 1986), ('image', 961), ('procedure', 1531), ('detect', 547), ('fake', 769), ('uniqueness', 2047), ('capable', 258), ('diffraction', 567), ('confirmed', 383), ('vision', 2089), ('possibility', 1484), ('realization', 1610), ('longer', 1166), ('becomes', 192), ('bottleneck', 227), ('artistic', 131), ('leading', 1132), ('assist', 142), ('subjective', 1893), ('thought', 1974), ('establishing', 704), ('corresponding', 434), ('algorithm', 58), ('rule', 1720), ('generate', 849), ('scheme', 1734), ('scientifically', 1738), ('logical', 1164), ('obtains', 1346), ('imagination', 962), ('intelligent', 1048), ('try', 2022), ('apply', 106), ('combine', 336), ('latest', 1124), ('technical', 1944), ('forward', 822), ('prove', 1569), ('primitive', 1522), ('architecture', 119), ('depends', 520), ('classifying', 310), ('element', 642), ('conceptual', 372), ('style', 1889), ('sketch', 1802), ('quickly', 1591), ('enlarge', 684), ('cover', 442), ('phase', 1441), ('early', 617), ('stage', 1850), ('take', 1934), ('account', 17), ('act', 23), ('assistant', 143), ('decision', 493), ('illustration', 959), ('included', 987), ('creates', 453), ('physical', 1448), ('geometrical', 854), ('representation', 1665), ('successive', 1899), ('increasingly', 997), ('automotive', 166), ('locomotive', 1162), ('aviation', 171), ('print', 1524), ('layer', 1128), ('deposition', 522), ('directly', 573), ('develops', 557), ('settling', 1764), ('trend', 2015), ('wide', 2127), ('fashion', 773), ('food', 810), ('description', 529), ('stepwise', 1867), ('advantage', 44), ('hoped', 933), ('relies', 1651), ('academic', 9), ('publication', 1577), ('conference', 380), ('investigation', 1078), ('play', 1458), ('role', 1712), ('build', 242), ('tooling', 1989), ('main', 1178), ('describe', 526), ('applicability', 102), ('effectiveness', 631), ('stereolithography', 1869), ('apparatus', 98), ('mold', 1276), ('term', 1952), ('larger', 1118), ('quantity', 1586), ('imported', 980), ('shared', 1774), ('repertoire', 1657), ('motif', 1282), ('emerged', 650), ('large', 1116), ('mainland', 1179), ('would', 2142), ('reproduced', 1668), ('mycenaean', 1296), ('applying', 107), ('ultimately', 2036), ('near', 1308), ('mainly', 1180), ('minoan', 1255), ('divided', 595), ('neck', 1312), ('clothing', 316), ('considerable', 391), ('iron', 1084), ('revolution', 1695), ('caused', 269), ('durable', 610), ('introduces', 1066), ('hybrid', 940), ('positioning', 1480), ('presenter', 1510), ('represent', 1664), ('independent', 999), ('student', 1885), ('associated', 145), ('commercial', 340), ('discussion', 578), ('human', 938), ('introduce', 1064), ('movement', 1285), ('ushered', 2063), ('way', 2108), ('customization', 474), ('rather', 1603), ('mere', 1232), ('transition', 2008), ('explores', 743), ('perception', 1428), ('sixteen', 1799), ('participant', 1408), ('recruited', 1623), ('north', 1322), ('america', 75), ('indicated', 1002), ('emphasized', 657), ('ease', 620), ('preference', 1498), ('rhino', 1698), ('perspective', 1437), ('necklace', 1313), ('entering', 689), ('improved', 982), ('applies', 105), ('situation', 1798), ('topological', 1992), ('rectangular', 1625), ('interpolation', 1061), ('triangular', 2016), ('specially', 1837), ('automatically', 165), ('triangulates', 2017), ('scattered', 1732), ('establish', 702), ('modified', 1271), ('optimized', 1365), ('triangulation', 2018), ('requirement', 1670), ('handle', 899), ('spatial', 1832), ('speed', 1846), ('verification', 2078), ('effectively', 630), ('portrayed', 1477), ('decoration', 497), ('belief', 194), ('custom', 472), ('floral', 801), ('symbolizing', 1927), ('preserve', 1512), ('embedding', 648), ('together', 1984), ('statement', 1859), ('cyclic', 480), ('formation', 813), ('added', 31), ('incorporate', 992), ('apparently', 100), ('exist', 727), ('relates', 1644), ('identify', 950), ('introduced', 1065), ('line', 1148), ('able', 1), ('portray', 1475), ('originality', 1378), ('without', 2132), ('western', 2121), ('narrative', 1300), ('flexible', 799), ('specialization', 1836), ('largely', 1117), ('absent', 6), ('notion', 1326), ('relegate', 1648), ('firm', 795), ('district', 590), ('marginal', 1204), ('place', 1451), ('historiography', 926), ('drawing', 604), ('adapted', 29), ('productive', 1540), ('respond', 1681), ('dynamic', 612), ('market', 1208), ('became', 190), ('commodity', 342), ('birmingham', 216), ('specialty', 1838), ('satisfy', 1728), ('labor', 1113), ('single', 1796), ('informal', 1019), ('substantial', 1895), ('income', 991), ('activity', 26), ('accompanied', 15), ('accentuating', 11), ('migration', 1249), ('india', 1000), ('social', 1812), ('commissioned', 341), ('kerala', 1103), ('organized', 1373), ('caste', 265), ('dominated', 600), ('viswakarma', 2093), ('response', 1683), ('assisted', 144), ('burgeoning', 245), ('economy', 624), ('enforcement', 673), ('deregulation', 524), ('profound', 1545), ('organization', 1372), ('kind', 1104), ('worker', 2138), ('examination', 721), ('migrant', 1248), ('symbol', 1923), ('anatolian', 89), ('anatolia', 88), ('respect', 1680), ('handcraft', 896), ('nearly', 1309), ('identical', 946), ('among', 77), ('special', 1833), ('symbolizes', 1926), ('achievement', 21), ('reducing', 1629), ('decreased', 499), ('prefers', 1499), ('destruction', 543), ('firstly', 797), ('researched', 1672), ('suggestion', 1903), ('solution', 1818), ('touch', 1993), ('thing', 1968), ('age', 53), ('brightness', 236), ('ascends', 134), ('palace', 1399), ('ruling', 1721), ('changed', 284), ('confined', 382), ('extends', 752), ('artificial', 128), ('electricity', 639), ('enchanting', 669), ('invention', 1071), ('twentieth', 2026), ('electric', 638), ('extending', 751), ('highlight', 920), ('lighting', 1143), ('resulting', 1688), ('ugandan', 2035), ('clearly', 313), ('kampala', 1098), ('city', 305), ('besides', 204), ('flooding', 800), ('gaining', 843), ('momentum', 1277), ('offered', 1349), ('trace', 1998), ('performance', 1430), ('former', 816), ('makerere', 1188), ('university', 2049), ('around', 122), ('alongside', 69), ('acquired', 22), ('vocational', 2097), ('guided', 892), ('ass', 138), ('distribution', 589), ('bifa', 209), ('faced', 764), ('suggest', 1901), ('therefore', 1964), ('shop', 1778), ('center', 274), ('majestic', 1183), ('park', 1406), ('enkadde', 683), ('mall', 1193), ('african', 50), ('village', 2085), ('dewinton', 560), ('road', 1707), ('cross', 463), ('sectional', 1746), ('explorative', 740), ('population', 1471), ('respondent', 1682), ('photography', 1445), ('documentary', 597), ('whose', 2126), ('contributed', 418), ('quantitative', 1585), ('yielded', 2150), ('overwhelmed', 1391), ('managed', 1194), ('comparison', 351), ('generally', 848), ('ground', 885), ('general', 847), ('finish', 790), ('discovered', 575), ('premise', 1503), ('clustered', 318), ('importation', 979), ('greater', 880), ('ranged', 1598), ('stiff', 1870), ('competition', 355), ('seasonality', 1745), ('dominates', 601), ('scene', 1733), ('share', 1773), ('however', 937), ('employing', 662), ('stood', 1873), ('chance', 282), ('though', 1973), ('mishap', 1257), ('circumstance', 304), ('attracted', 156), ('record', 1620), ('attendance', 150), ('delegate', 509), ('status', 1863), ('premier', 1502), ('international', 1058), ('programme', 1546), ('covered', 443), ('something', 1822), ('intangible', 1041), ('cultural', 467), ('reflected', 1635), ('certain', 278), ('changing', 285), ('environment', 694), ('protection', 1564), ('developmental', 556), ('policy', 1461), ('service', 1761), ('transforming', 2007), ('mode', 1264), ('case', 264), ('analyze', 84), ('classical', 308), ('user', 2062), ('motivation', 1283), ('resource', 1679), ('inheritance', 1025), ('establishment', 705), ('interconnection', 1053), ('opportunity', 1360), ('promote', 1551), ('difference', 562), ('west', 2120), ('china', 298), ('illuminating', 955), ('civilization', 306), ('developing', 554), ('quantum', 1587), ('essence', 700), ('silicon', 1789), ('carbon', 261), ('mankind', 1196), ('crucial', 464), ('inspiration', 1035), ('enlightenment', 685), ('meditation', 1226), ('principle', 1523), ('virtue', 2087), ('oversight', 1389), ('ignorance', 953), ('thereby', 1963), ('conflict', 384), ('shaping', 1772), ('competence', 354), ('appropriation', 112), ('often', 1351), ('reported', 1663), ('outcome', 1383), ('observe', 1341), ('conduct', 377), ('multiple', 1291), ('hobbyist', 929), ('steampunk', 1864), ('amongst', 78), ('meaning', 1219), ('strongest', 1881), ('motivator', 1284), ('determined', 550), ('aspirational', 137), ('handcrafted', 897), ('hinged', 923), ('transformation', 2005), ('requiring', 1671), ('robust', 1710), ('conventionally', 425), ('wood', 2135), ('standard', 1853), ('evaluation', 712), ('zirconium', 2155), ('salt', 1723), ('spray', 1849), ('abrasion', 4), ('test', 1955), ('comparable', 347), ('even', 714), ('superior', 1911), ('typical', 2030), ('zirconia', 2154), ('properly', 1556), ('oxidizing', 1396), ('machinability', 1174), ('route', 1717), ('revitalization', 1693), ('talked', 1937), ('survival', 1920), ('pertaining', 1438), ('passed', 1413), ('backbone', 176), ('majority', 1185), ('primary', 1521), ('globalization', 866), ('industrialization', 1012), ('setback', 1762), ('cheaper', 293), ('employment', 663), ('paved', 1420), ('necessary', 1310), ('revitalize', 1694), ('casting', 266), ('practiced', 1494), ('cluster', 317), ('bell', 195), ('chhattisgarh', 297), ('surguja', 1916), ('ektaal', 636), ('bastar', 183), ('kondagaon', 1110), ('infused', 1022), ('wrought', 2145), ('comparatively', 349), ('artisan', 129), ('promoted', 1552), ('slowly', 1808), ('mark', 1205), ('intervention', 1062), ('deemed', 501), ('survive', 1921), ('government', 872), ('survey', 1918), ('enabled', 665), ('reach', 1606), ('rapidly', 1601), ('since', 1795), ('word', 2136), ('replaced', 1659), ('evolving', 720), ('desktop', 540), ('printer', 1526), ('fulfill', 832), ('dental', 516), ('disrupts', 584), ('trillion', 2021), ('growth', 889), ('billion', 211), ('explains', 738), ('technologically', 1948), ('emphasizes', 658), ('accelerating', 10), ('success', 1897), ('story', 1874), ('startup', 1856), ('adaptation', 28), ('pakistan', 1398), ('weeklong', 2114), ('summer', 1910), ('camp', 256), ('initial', 1027), ('classification', 309), ('domestic', 599), ('arrival', 124), ('turk', 2024), ('sixteenth', 1800), ('sudden', 1900), ('manufacturer', 1201), ('filigree', 781), ('decorative', 498), ('wear', 2109), ('body', 225), ('always', 73), ('destiny', 542), ('numerous', 1335), ('cumulative', 469), ('simply', 1793), ('define', 505), ('descriptor', 531), ('happens', 901), ('stated', 1858), ('completely', 359), ('verify', 2079), ('beloved', 198), ('maxim', 1216), ('ideal', 945), ('maksim', 1190), ('repetitio', 1658), ('mater', 1212), ('studiorum', 1887), ('keep', 1100), ('gradual', 873), ('precipitation', 1496), ('later', 1123), ('escalate', 698), ('prehistory', 1500), ('typological', 2032), ('bratislava', 231), ('head', 904), ('piece', 1449), ('chest', 296), ('back', 175), ('waist', 2100), ('voxel', 2098), ('modeler', 1267), ('carved', 263), ('sophisticated', 1824), ('cavity', 270), ('engraved', 680), ('thin', 1967), ('sharp', 1775), ('produce', 1534), ('copy', 430), ('configured', 381), ('joined', 1093), ('integral', 1042), ('defined', 506), ('modeled', 1266), ('variation', 2072), ('depend', 517), ('upon', 2056), ('richness', 1703), ('voxels', 2099), ('resulted', 1687), ('capsule', 260), ('afrocentric', 51), ('printed', 1525), ('digitally', 570), ('textile', 1958), ('historical', 924), ('inquiry', 1032), ('black', 217), ('thesis', 1966), ('completed', 358), ('american', 76), ('female', 776), ('explored', 742), ('disruptive', 583), ('exploration', 739), ('minority', 1256), ('facilitated', 766), ('emergent', 651), ('allowed', 62), ('wave', 2107), ('sweeping', 1922), ('individuality', 1007), ('constantly', 398), ('blindly', 221), ('imitating', 964), ('ignoring', 954), ('korean', 1111), ('see', 1748), ('shadow', 1768), ('imperative', 967), ('cannot', 257), ('outstanding', 1387), ('south', 1827), ('list', 1154), ('longfin', 1167), ('water', 2106), ('grain', 874), ('successful', 1898), ('moral', 1278), ('ripple', 1706), ('fusion', 840), ('thirty', 1971), ('seventy', 1765), ('percent', 1426), ('appreciation', 109), ('maintain', 1181), ('personalized', 1436), ('whole', 2125), ('polyjet', 1465), ('colour', 332), ('theme', 1960), ('modify', 1274), ('cell', 271), ('adjust', 37), ('size', 1801), ('describing', 528), ('unexpected', 2044), ('bikini', 210), ('bida', 208), ('central', 275), ('masaga', 1209), ('glassmaker', 861), ('investigating', 1077), ('arab', 113), ('writing', 2143), ('glassmaking', 862), ('exception', 724), ('peter', 1440), ('robertshaw', 1709), ('colleague', 325), ('identifies', 949), ('formula', 818), ('ethnographic', 708), ('collect', 326), ('unfused', 2045), ('vitrified', 2095), ('furnace', 838), ('wall', 2101), ('fragment', 827), ('binocular', 213), ('mineralogical', 1252), ('documentation', 598), ('relevant', 1650), ('glassworking', 863), ('address', 35), ('relating', 1645), ('nupeland', 1336), ('neighbor', 1315), ('lower', 1171), ('niger', 1318), ('argues', 121), ('essential', 701), ('expanding', 731), ('archaeology', 116), ('africa', 49), ('equated', 696), ('advent', 45), ('cmos', 319), ('microcomputer', 1242), ('allows', 64), ('redefinition', 1627), ('radically', 1593), ('graphic', 878), ('board', 224), ('revolutionary', 1696), ('illustrated', 957), ('growing', 888), ('great', 879), ('academia', 8), ('proposes', 1561), ('reinforcing', 1641), ('viable', 2080), ('inclusion', 990), ('suggested', 1902), ('conveyed', 427), ('virtual', 2086), ('inserted', 1033), ('extra', 756), ('week', 2113), ('theory', 1962), ('significance', 1786), ('suitable', 1905), ('consisting', 395), ('necessity', 1311), ('illustrate', 956), ('mutual', 1295), ('availability', 168), ('proposal', 1558), ('northern', 1323), ('dynasty', 614), ('witnessed', 2133), ('extensive', 754), ('testified', 1956), ('metallurgic', 1235), ('finger', 788), ('earring', 619), ('exotic', 730), ('feature', 775), ('uncovered', 2037), ('elite', 645), ('sogdian', 1815), ('tomb', 1985), ('wife', 2130), ('zhou', 2153), ('refined', 1632), ('autogenous', 164), ('granule', 877), ('niello', 1317), ('sulfide', 1906), ('decorate', 494), ('presenting', 1511), ('earliest', 616), ('evidence', 717), ('inlay', 1028), ('noteworthy', 1325), ('sulfur', 1907), ('deferring', 504), ('synthesised', 1930), ('prior', 1528), ('gain', 842), ('medieval', 1225), ('abrasive', 5), ('deburring', 491), ('inherent', 1023), ('layering', 1129), ('visible', 2088), ('significant', 1787), ('practicable', 1491), ('setting', 1763), ('effective', 629), ('optimum', 1366), ('screened', 1741), ('nozzle', 1331), ('pressure', 1515), ('blasting', 218), ('highly', 921), ('distance', 585), ('varies', 2073), ('dependent', 518), ('orientation', 1374), ('experiment', 734), ('factorial', 768), ('search', 1743), ('weight', 2115), ('roughness', 1716), ('taken', 1935), ('specimen', 1841), ('subjected', 1892), ('twenty', 2027), ('rene', 1654), ('nouveau', 1327), ('calouste', 254), ('gulbenkian', 893), ('mobile', 1263), ('radiography', 1594), ('characterise', 286), ('sometimes', 1823), ('transparent', 2010), ('searched', 1744), ('illustrative', 960), ('polychrome', 1464), ('frequently', 831), ('left', 1136), ('contrary', 414), ('yellow', 2148), ('contain', 405), ('expected', 732), ('presence', 1506), ('estimated', 706), ('mixture', 1262), ('patinated', 1418), ('agcl', 52), ('corrosion', 435), ('vitreous', 2094), ('served', 1760), ('opacifiers', 1354), ('white', 2124), ('colouring', 334), ('blue', 223), ('chromate', 302), ('pink', 1450), ('horizon', 934), ('arabic', 114), ('calligraphy', 252), ('revolutionized', 1697), ('opened', 1356), ('integrate', 1043), ('urban', 2057), ('choosing', 300), ('difficult', 566), ('accuracy', 18), ('entrance', 692), ('best', 205), ('possessed', 1483), ('deal', 490), ('previously', 1518), ('lie', 1140), ('linking', 1153), ('heritage', 917), ('obtaining', 1345), ('comparative', 348), ('focussing', 807), ('stylistic', 1890), ('premium', 1504), ('segment', 1751), ('russian', 1722), ('creatively', 457), ('striving', 1879), ('absorb', 7), ('artwork', 133), ('implement', 972), ('technically', 1945), ('analyse', 80), ('yekaterinburg', 2147), ('natasha', 1302), ('translation', 2009), ('quatation', 1588), ('figuration', 779), ('jungian', 1097), ('archetype', 117), ('trickster', 2020), ('figure', 780), ('symbolise', 1924), ('vocabulary', 2096), ('advance', 41), ('stagnation', 1851), ('attitude', 154), ('towards', 1995), ('live', 1156), ('online', 1353), ('know', 1107), ('someone', 1821), ('advancement', 43), ('access', 12), ('boundary', 228), ('gallery', 844), ('distributed', 588), ('creativity', 458), ('authentic', 159), ('draw', 603), ('distinguishes', 587), ('add', 30), ('controversy', 423), ('abounded', 2), ('fallen', 771), ('fall', 770), ('face', 763), ('origami', 1375), ('extent', 755), ('modulation', 1275), ('extract', 757), ('concrete', 375), ('tangible', 1938), ('adapt', 27), ('compatible', 352), ('prevailing', 1516), ('sensory', 1756), ('mental', 1231), ('foundation', 824), ('autochthonous', 163), ('tribe', 2019), ('east', 621), ('siberia', 1784), ('regular', 1640), ('number', 1334), ('close', 314), ('latter', 1125), ('siberian', 1785), ('irkutsk', 1083), ('tremendous', 2014), ('played', 1459), ('multilateral', 1290), ('raise', 1595), ('diversity', 594), ('offset', 1350), ('formative', 814), ('narrow', 1301), ('power', 1489), ('unlimited', 2050), ('recruitment', 1624), ('must', 1293), ('linked', 1152), ('conscious', 388), ('instrumental', 1040), ('enrich', 687), ('scientist', 1739), ('paste', 1415), ('clay', 312), ('membership', 1229), ('mixed', 1260), ('manually', 1198), ('block', 222), ('restructuring', 1685), ('burned', 249), ('temperature', 1949), ('celsius', 272), ('evaporates', 713), ('organic', 1371), ('pure', 1579), ('operation', 1358), ('painting', 1397), ('oxidant', 1393), ('invented', 1070), ('japanese', 1089), ('morikawa', 1279), ('hereby', 916), ('designated', 533), ('purchased', 1578), ('characterization', 288), ('constituent', 399), ('original', 1377), ('hardware', 903), ('overcome', 1388), ('limit', 1145), ('coefficient', 322), ('correlation', 433), ('soldering', 1817), ('tarquinia', 1939), ('imaging', 963), ('measure', 1221), ('construction', 401), ('another', 96), ('marker', 1207), ('obtain', 1343), ('depth', 523), ('analytical', 83), ('circulation', 303), ('imperfect', 969), ('display', 582), ('wastage', 2103), ('reality', 1609), ('diversified', 593), ('plate', 1456), ('plane', 1454), ('constructed', 400), ('average', 170), ('rate', 1602), ('perfect', 1429), ('behind', 193), ('bracelet', 229), ('wielbark', 2129), ('cemetery', 273), ('roman', 1713), ('located', 1161), ('weklice', 2116), ('elblag', 637), ('written', 2144), ('goldsmithing', 869), ('reconstruct', 1618), ('replica', 1660), ('specialised', 1834), ('workshop', 2140), ('concentrated', 369), ('lake', 1115), ('druzno', 609), ('vistula', 2090), ('kufic', 1112), ('architectural', 118), ('benefiting', 203), ('analyzing', 87), ('conducting', 379), ('matrex', 1213), ('crafting', 447), ('curriculum', 471), ('reviewing', 1692), ('formulation', 821), ('metalwork', 1237), ('activate', 25), ('allied', 60), ('long', 1165), ('undoubtedly', 2042), ('practical', 1492), ('aware', 173), ('unsettling', 2053), ('viewpoint', 2084), ('briefly', 235), ('school', 1735), ('shall', 1769), ('economics', 623), ('business', 250), ('paradigm', 1400), ('film', 782), ('deposited', 521), ('coloration', 331), ('oxidation', 1394), ('fiber', 777), ('nanosecond', 1299), ('duration', 611), ('coordinate', 428), ('reflectance', 1634), ('spectrum', 1845), ('interference', 1056), ('oxide', 1395), ('substrate', 1896), ('resistance', 1676), ('formed', 815), ('adhesion', 36), ('characterizes', 290), ('bronze', 240), ('recovered', 1621), ('lusatian', 1172), ('mala', 1191), ('kepa', 1102), ('giving', 859), ('dendritic', 515), ('nail', 1298), ('implementing', 975), ('whereas', 2122), ('elemental', 643), ('metalworker', 1238), ('familiar', 772), ('roasting', 1708), ('dispersive', 581), ('coupled', 440), ('fingerprint', 789), ('profile', 1544), ('statistically', 1862), ('evaluated', 711), ('multidimensional', 1288), ('fast', 774), ('unsolved', 2054), ('diamond', 561), ('cutting', 476), ('intelligence', 1047), ('recognition', 1615), ('misunderstood', 1258), ('poor', 1467), ('accessibility', 13), ('renewal', 1655), ('contrast', 415), ('separate', 1757), ('moving', 1286), ('capacity', 259), ('replicability', 1661), ('customizable', 473), ('bringing', 238), ('toward', 1994), ('express', 748), ('beauty', 189), ('imperceptible', 968), ('designable', 532), ('expressivity', 750), ('generative', 851), ('adopting', 39), ('simple', 1792), ('medium', 1227), ('kaolin', 1099), ('mixing', 1261), ('fired', 793), ('emphasize', 656), ('brown', 241), ('decorated', 495), ('smoked', 1811), ('rice', 1700), ('husk', 939), ('charcoal', 291), ('stove', 1875), ('owing', 1392), ('finished', 791), ('sort', 1825), ('producer', 1536), ('prepared', 1505), ('attraction', 157), ('sphere', 1847), ('dark', 483), ('contrasted', 416), ('outer', 1384), ('five', 798), ('received', 1613), ('provenance', 1570), ('depending', 519), ('atomic', 147), ('physic', 1447), ('nuclear', 1333), ('spectrometry', 1843), ('answer', 97), ('surrounding', 1917), ('covering', 444), ('involving', 1082), ('reveal', 1690), ('impetus', 970), ('informed', 1021), ('drawn', 605), ('recommendation', 1616), ('proffered', 1542), ('replication', 1662), ('eurocentric', 709), ('unmarketable', 2051), ('brand', 230), ('showcase', 1781), ('obsolete', 1342), ('epoch', 695), ('inclination', 985), ('immigrant', 965), ('employ', 660), ('traversed', 2012), ('portrayal', 1476), ('remedial', 1653), ('delineates', 510), ('incorporating', 993), ('specialist', 1835), ('pursuit', 1582), ('considering', 393), ('roughly', 1715), ('invested', 1073), ('heavily', 909), ('additionally', 33), ('propagate', 1554), ('progressively', 1548), ('mature', 1215), ('multidimensionality', 1289), ('simultaneously', 1794), ('distinct', 586), ('oscillate', 1381), ('redefining', 1626), ('ubiquitous', 2033), ('reshaping', 1675), ('ubiquity', 2034), ('influencing', 1017), ('consumption', 403), ('participation', 1409), ('phenomenon', 1442), ('hybridization', 941), ('unprecedented', 2052), ('freedom', 829), ('opening', 1357), ('path', 1417), ('pertinent', 1439), ('thinkable', 1969), ('tempting', 1950), ('ancestral', 90), ('unthinkable', 2055), ('glimpse', 864), ('permeate', 1433), ('encounter', 671), ('iconographic', 943), ('colombian', 329), ('territory', 1953), ('reinterpreted', 1642), ('experimentation', 737), ('suggests', 1904), ('evidenced', 718), ('latent', 1122), ('transported', 2011), ('mutability', 1294), ('collaborative', 324)])"
      ]
     },
     "execution_count": 44,
     "metadata": {},
     "output_type": "execute_result"
    }
   ],
   "source": [
    "vectorizer.vocabulary_.items()"
   ]
  },
  {
   "cell_type": "code",
   "execution_count": 30,
   "metadata": {},
   "outputs": [],
   "source": [
    "# vectordic = pd.DataFrame([dict]).transpose()\n",
    "# vectordic.columns = ['keywords']\n",
    "# df = pd.DataFrame(vectordic)\n",
    "# df"
   ]
  },
  {
   "cell_type": "code",
   "execution_count": 29,
   "metadata": {},
   "outputs": [],
   "source": [
    "# df2 = df.replace({'(':'',')':''}, regex = True)\n",
    "# df2"
   ]
  },
  {
   "cell_type": "code",
   "execution_count": 46,
   "metadata": {},
   "outputs": [],
   "source": [
    "#finally lets create the wordcloud. \n",
    "tfidf_weights = [[word, tdm.getcol(idx).sum()] for word, idx in vectorizer.vocabulary_.items()]"
   ]
  },
  {
   "cell_type": "code",
   "execution_count": 47,
   "metadata": {},
   "outputs": [
    {
     "data": {
      "text/plain": [
       "[['existing', 0.7970003775105761],\n",
       " ['computational', 0.2827219550457831],\n",
       " ['applied', 0.869122241790727],\n",
       " ['broad', 0.2827219550457831],\n",
       " ['array', 0.39295402661380197],\n",
       " ['selected', 0.43438316010399813],\n",
       " ['ordered', 0.33331858069245257],\n",
       " ['three', 1.2276831265183004],\n",
       " ['outline', 0.4329675536703605],\n",
       " ['core', 0.45377627335341475]]"
      ]
     },
     "execution_count": 47,
     "metadata": {},
     "output_type": "execute_result"
    }
   ],
   "source": [
    "tfidf_weights[0:10]"
   ]
  },
  {
   "cell_type": "code",
   "execution_count": 55,
   "metadata": {},
   "outputs": [
    {
     "ename": "TypeError",
     "evalue": "'dict_items' object is not callable",
     "output_type": "error",
     "traceback": [
      "\u001b[1;31m---------------------------------------------------------------------------\u001b[0m",
      "\u001b[1;31mTypeError\u001b[0m                                 Traceback (most recent call last)",
      "\u001b[1;32m<ipython-input-55-bf0741311780>\u001b[0m in \u001b[0;36m<module>\u001b[1;34m\u001b[0m\n\u001b[1;32m----> 1\u001b[1;33m \u001b[0mw\u001b[0m \u001b[1;33m=\u001b[0m \u001b[0mWordCloud\u001b[0m\u001b[1;33m(\u001b[0m\u001b[0mwidth\u001b[0m\u001b[1;33m=\u001b[0m\u001b[1;36m1500\u001b[0m\u001b[1;33m,\u001b[0m \u001b[0mheight\u001b[0m\u001b[1;33m=\u001b[0m\u001b[1;36m1200\u001b[0m\u001b[1;33m,\u001b[0m \u001b[0mmode\u001b[0m\u001b[1;33m=\u001b[0m\u001b[1;34m'RGBA'\u001b[0m\u001b[1;33m,\u001b[0m \u001b[0mbackground_color\u001b[0m\u001b[1;33m=\u001b[0m\u001b[1;34m'white'\u001b[0m\u001b[1;33m,\u001b[0m \u001b[0mmax_words\u001b[0m\u001b[1;33m=\u001b[0m\u001b[1;36m2000\u001b[0m\u001b[1;33m)\u001b[0m\u001b[1;33m.\u001b[0m\u001b[0mfit_words\u001b[0m\u001b[1;33m(\u001b[0m\u001b[0mdict\u001b[0m\u001b[1;33m(\u001b[0m\u001b[0mtfidf_weights\u001b[0m\u001b[1;33m)\u001b[0m\u001b[1;33m)\u001b[0m\u001b[1;33m\u001b[0m\u001b[1;33m\u001b[0m\u001b[0m\n\u001b[0m",
      "\u001b[1;31mTypeError\u001b[0m: 'dict_items' object is not callable"
     ]
    }
   ],
   "source": [
    "w = WordCloud(width=1500, height=1200, mode='RGBA', background_color='white', max_words=2000).fit_words(dict(tfidf_weights))"
   ]
  },
  {
   "cell_type": "code",
   "execution_count": 50,
   "metadata": {},
   "outputs": [
    {
     "ename": "NameError",
     "evalue": "name 'w' is not defined",
     "output_type": "error",
     "traceback": [
      "\u001b[1;31m---------------------------------------------------------------------------\u001b[0m",
      "\u001b[1;31mNameError\u001b[0m                                 Traceback (most recent call last)",
      "\u001b[1;32m<ipython-input-50-6bc1860137ee>\u001b[0m in \u001b[0;36m<module>\u001b[1;34m\u001b[0m\n\u001b[0;32m      1\u001b[0m \u001b[0mplt\u001b[0m\u001b[1;33m.\u001b[0m\u001b[0mfigure\u001b[0m\u001b[1;33m(\u001b[0m\u001b[0mfigsize\u001b[0m\u001b[1;33m=\u001b[0m\u001b[1;33m(\u001b[0m\u001b[1;36m20\u001b[0m\u001b[1;33m,\u001b[0m\u001b[1;36m15\u001b[0m\u001b[1;33m)\u001b[0m\u001b[1;33m)\u001b[0m\u001b[1;33m\u001b[0m\u001b[1;33m\u001b[0m\u001b[0m\n\u001b[1;32m----> 2\u001b[1;33m \u001b[0mplt\u001b[0m\u001b[1;33m.\u001b[0m\u001b[0mimshow\u001b[0m\u001b[1;33m(\u001b[0m\u001b[0mw\u001b[0m\u001b[1;33m)\u001b[0m\u001b[1;33m\u001b[0m\u001b[1;33m\u001b[0m\u001b[0m\n\u001b[0m\u001b[0;32m      3\u001b[0m \u001b[0mplt\u001b[0m\u001b[1;33m.\u001b[0m\u001b[0maxis\u001b[0m\u001b[1;33m(\u001b[0m\u001b[1;34m'off'\u001b[0m\u001b[1;33m)\u001b[0m\u001b[1;33m\u001b[0m\u001b[1;33m\u001b[0m\u001b[0m\n\u001b[0;32m      4\u001b[0m \u001b[1;31m#plt.savefig('sj_wordcloud2.png')\u001b[0m\u001b[1;33m\u001b[0m\u001b[1;33m\u001b[0m\u001b[1;33m\u001b[0m\u001b[0m\n",
      "\u001b[1;31mNameError\u001b[0m: name 'w' is not defined"
     ]
    },
    {
     "data": {
      "text/plain": [
       "<Figure size 1440x1080 with 0 Axes>"
      ]
     },
     "metadata": {},
     "output_type": "display_data"
    }
   ],
   "source": [
    "plt.figure(figsize=(20,15))\n",
    "plt.imshow(w)\n",
    "plt.axis('off')\n",
    "#plt.savefig('sj_wordcloud2.png')"
   ]
  }
 ],
 "metadata": {
  "kernelspec": {
   "display_name": "Python 3.7.6 ('base')",
   "language": "python",
   "name": "python3"
  },
  "language_info": {
   "codemirror_mode": {
    "name": "ipython",
    "version": 3
   },
   "file_extension": ".py",
   "mimetype": "text/x-python",
   "name": "python",
   "nbconvert_exporter": "python",
   "pygments_lexer": "ipython3",
   "version": "3.7.6"
  },
  "vscode": {
   "interpreter": {
    "hash": "18acd681e4f8df9e1ad8daf413d60170772a32d49d5c818dd90a04dcd4c5f4ff"
   }
  }
 },
 "nbformat": 4,
 "nbformat_minor": 4
}
