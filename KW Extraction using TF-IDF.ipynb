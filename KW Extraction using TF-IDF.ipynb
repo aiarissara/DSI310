{
 "cells": [
  {
   "cell_type": "code",
   "execution_count": null,
   "metadata": {},
   "outputs": [],
   "source": [
    "import matplotlib.pyplot as plt\n",
    "import numpy as np\n",
    "import pandas as pd\n",
    "import re\n",
    "from sklearn.feature_extraction.text import TfidfVectorizer\n",
    "from nltk import download\n",
    "import nltk\n",
    "from nltk.corpus import stopwords\n",
    "from wordcloud import WordCloud\n",
    "import json\n",
    "from nltk.stem import WordNetLemmatizer\n",
    "import pandas as pd \n",
    "pd.set_option('display.max_colwidth', None)"
   ]
  },
  {
   "cell_type": "code",
   "execution_count": null,
   "metadata": {},
   "outputs": [],
   "source": [
    "data = pd.read_csv(r'C:\\Users\\acer\\Desktop\\sustainable_jewelry_abstract.csv')\n",
    "data"
   ]
  },
  {
   "cell_type": "code",
   "execution_count": null,
   "metadata": {},
   "outputs": [],
   "source": [
    "stop = stopwords.words('english') "
   ]
  },
  {
   "cell_type": "code",
   "execution_count": null,
   "metadata": {},
   "outputs": [],
   "source": [
    "abstract_stop_list = [\"introduction\",\"desktop\",\"article\",\"online\",\"type\",\"gem\",\"best\",\n",
    "                    \"studio\",\"school\",\"making\",\"question\",\"tip\",\"guide\",\"gemstone\",\n",
    "                    \"sustainable\",\"jewelry\",\"materials\",\"research\",\"material\",\n",
    "                    \"jewellery\",\"study\",\"sustainability\",\"technique\",\"design\",\"technology\",\n",
    "                    \"paper\",\"review\",\"information\",\"product\",\"production\",\"used\",\"also\",\"three\",\n",
    "                    \"within\",\"using\",\"well\",\"made\",\"data\",\"model\",\"work\",\"result\",\"object\",\n",
    "                    \"based\",\"developed\",\"high\",\"project\"]"
   ]
  },
  {
   "cell_type": "code",
   "execution_count": null,
   "metadata": {},
   "outputs": [],
   "source": [
    "stop.extend(abstract_stop_list)\n",
    "stop"
   ]
  },
  {
   "cell_type": "code",
   "execution_count": null,
   "metadata": {},
   "outputs": [],
   "source": [
    "def remove_encoding_word(word):\n",
    "    word = str(word)\n",
    "    word = word.encode('ASCII', 'ignore').decode('ASCII')\n",
    "    return word"
   ]
  },
  {
   "cell_type": "code",
   "execution_count": null,
   "metadata": {},
   "outputs": [],
   "source": [
    "def remove_encoding_text(text):\n",
    "    text = str(text)\n",
    "    text = ' '.join(remove_encoding_word(word) for word in text.split() if word not in stop)\n",
    "    return text"
   ]
  },
  {
   "cell_type": "code",
   "execution_count": null,
   "metadata": {},
   "outputs": [],
   "source": [
    "data['Abstract'] = data['Abstract'].apply(remove_encoding_text)"
   ]
  },
  {
   "cell_type": "code",
   "execution_count": null,
   "metadata": {},
   "outputs": [],
   "source": [
    "text = ' '.join(words for words in data['Abstract'])\n",
    "len(text)"
   ]
  },
  {
   "cell_type": "code",
   "execution_count": null,
   "metadata": {},
   "outputs": [],
   "source": [
    "lemma = WordNetLemmatizer().lemmatize"
   ]
  },
  {
   "cell_type": "code",
   "execution_count": null,
   "metadata": {},
   "outputs": [],
   "source": [
    "def tokenize(document):\n",
    "    tokens = [lemma(w) for w in document.split() if len(w) > 3 and w.isalpha()]\n",
    "    return tokens"
   ]
  },
  {
   "cell_type": "code",
   "execution_count": null,
   "metadata": {},
   "outputs": [],
   "source": [
    "vectorizer = TfidfVectorizer(tokenizer = tokenize, ngram_range = ((1,1)), stop_words = stop, \n",
    "strip_accents = 'unicode')"
   ]
  },
  {
   "cell_type": "code",
   "execution_count": null,
   "metadata": {},
   "outputs": [],
   "source": [
    "tdm = vectorizer.fit_transform(data['Abstract'])\n"
   ]
  },
  {
   "cell_type": "code",
   "execution_count": null,
   "metadata": {},
   "outputs": [],
   "source": [
    "tfidf_weights = [(word, tdm.getcol(idx).sum()) for word, idx in vectorizer.vocabulary_.items()]"
   ]
  },
  {
   "cell_type": "code",
   "execution_count": null,
   "metadata": {},
   "outputs": [],
   "source": [
    "w = WordCloud(width=900, height=400, mode='RGBA', background_color='white', \n",
    "max_words=500).fit_words(dict(tfidf_weights))"
   ]
  },
  {
   "cell_type": "code",
   "execution_count": null,
   "metadata": {},
   "outputs": [],
   "source": [
    "plt.figure(figsize=(15,10))\n",
    "plt.imshow(w)\n",
    "plt.axis('off')"
   ]
  }
 ],
 "metadata": {
  "kernelspec": {
   "display_name": "Python 3",
   "language": "python",
   "name": "python3"
  },
  "language_info": {
   "codemirror_mode": {
    "name": "ipython",
    "version": 3
   },
   "file_extension": ".py",
   "mimetype": "text/x-python",
   "name": "python",
   "nbconvert_exporter": "python",
   "pygments_lexer": "ipython3",
   "version": "3.7.6"
  },
  "vscode": {
   "interpreter": {
    "hash": "18acd681e4f8df9e1ad8daf413d60170772a32d49d5c818dd90a04dcd4c5f4ff"
   }
  }
 },
 "nbformat": 4,
 "nbformat_minor": 4
}
