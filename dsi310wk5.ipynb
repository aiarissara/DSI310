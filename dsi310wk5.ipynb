{
 "cells": [
  {
   "cell_type": "markdown",
   "id": "0048252d",
   "metadata": {},
   "source": [
    "Web Scraping by using BeautifulSoup"
   ]
  },
  {
   "cell_type": "code",
   "execution_count": null,
   "id": "9cfc4186",
   "metadata": {},
   "outputs": [],
   "source": [
    "import pandas as pd\n",
    "import bs4\n",
    "import requests\n",
    "from bs4 import BeautifulSoup"
   ]
  },
  {
   "cell_type": "code",
   "execution_count": null,
   "id": "2a7ee3be",
   "metadata": {},
   "outputs": [],
   "source": [
    "i_page = 1\n",
    "title_list = []\n",
    "detail_list = []\n",
    "\n",
    "while i_page <= 10:\n",
    "    data = requests.get(f'https://4cs.gia.edu/en-us/page/{i_page}/?s=jewelry+materials')\n",
    "    data.encoding = 'utf8'\n",
    "    soup = bs4.BeautifulSoup(data.text)\n",
    "    for item in soup.find_all('div', class_='contents'):\n",
    "        title_list.append(item.find('h3').text.strip())\n",
    "        detail_list.append(item.find('div', class_='post-content').text.strip())\n",
    "    \n",
    "    print('Complete page number: ',i_page)\n",
    "    i_page += 1"
   ]
  },
  {
   "cell_type": "code",
   "execution_count": null,
   "id": "559d2f51",
   "metadata": {},
   "outputs": [],
   "source": [
    "pd.set_option('display.max_colwidth', None)"
   ]
  },
  {
   "cell_type": "code",
   "execution_count": null,
   "id": "cf055f0e",
   "metadata": {
    "scrolled": false
   },
   "outputs": [],
   "source": [
    "df = pd.DataFrame([title_list,detail_list]).transpose()\n",
    "df.columns = ['title','detail']\n",
    "df"
   ]
  },
  {
   "cell_type": "code",
   "execution_count": null,
   "id": "a8cd2ea2",
   "metadata": {},
   "outputs": [],
   "source": [
    "df2 =  df.replace({'\\–':'-','\\’':'\\'','\\“':'\\\"','\\”':'\\\"','é':'e','—':'-','ó':'o','…':'...',' ':'  ','\\n':' '}, regex = True)\n",
    "df2\n"
   ]
  },
  {
   "cell_type": "code",
   "execution_count": null,
   "id": "83c34207",
   "metadata": {},
   "outputs": [],
   "source": [
    "df2.to_csv(r'C:\\Users\\Acer\\Desktop\\newsingia.csv',index=False)"
   ]
  },
  {
   "cell_type": "markdown",
   "id": "4c65c5fc",
   "metadata": {},
   "source": [
    "Uploaded csv file to DataPlatform and Covert file to parquet"
   ]
  },
  {
   "cell_type": "code",
   "execution_count": null,
   "id": "3777ad86",
   "metadata": {},
   "outputs": [],
   "source": [
    "from dsmlibrary.datanode import DataNode\n",
    "import json\n",
    "from tqdm.auto import tqdm\n",
    "import pandas as pd"
   ]
  },
  {
   "cell_type": "code",
   "execution_count": null,
   "id": "7c0171b8",
   "metadata": {},
   "outputs": [],
   "source": [
    "dir_raw_id = 45\n",
    "dir_process_id = 123"
   ]
  },
  {
   "cell_type": "code",
   "execution_count": null,
   "id": "5b880923",
   "metadata": {},
   "outputs": [],
   "source": [
    "datanode = DataNode()"
   ]
  },
  {
   "cell_type": "code",
   "execution_count": null,
   "id": "6a032350",
   "metadata": {},
   "outputs": [],
   "source": [
    "meta, fp = datanode.get_file(datanode.get_file_id(directory_id=dir_raw_id, name='newsingia.csv'))\n",
    "meta"
   ]
  },
  {
   "cell_type": "code",
   "execution_count": null,
   "id": "a25f862a",
   "metadata": {},
   "outputs": [],
   "source": [
    "df = pd.read_csv(fp)\n",
    "df"
   ]
  },
  {
   "cell_type": "code",
   "execution_count": null,
   "id": "2955f75b",
   "metadata": {},
   "outputs": [],
   "source": [
    "datanode.write(df=df, directory=dir_process_id, name=\"jewelry_material_in_gia\", profiling=True, lineage=[datanode.get_file_id(directory_id=dir_raw_id, name='newsingia.csv')])"
   ]
  }
 ],
 "metadata": {
  "kernelspec": {
   "display_name": "Python 3.7.6 ('base')",
   "language": "python",
   "name": "python3"
  },
  "language_info": {
   "codemirror_mode": {
    "name": "ipython",
    "version": 3
   },
   "file_extension": ".py",
   "mimetype": "text/x-python",
   "name": "python",
   "nbconvert_exporter": "python",
   "pygments_lexer": "ipython3",
   "version": "3.7.6"
  },
  "vscode": {
   "interpreter": {
    "hash": "18acd681e4f8df9e1ad8daf413d60170772a32d49d5c818dd90a04dcd4c5f4ff"
   }
  }
 },
 "nbformat": 4,
 "nbformat_minor": 5
}
