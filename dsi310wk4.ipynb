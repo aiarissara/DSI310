{
 "cells": [
  {
   "cell_type": "markdown",
   "id": "849aeb86",
   "metadata": {},
   "source": [
    "Web Scraping by using BeautifulSoup"
   ]
  },
  {
   "cell_type": "code",
   "execution_count": null,
   "metadata": {},
   "outputs": [],
   "source": [
    "import pandas as pd\n",
    "import bs4\n",
    "import requests\n",
    "import openpyxl"
   ]
  },
  {
   "cell_type": "code",
   "execution_count": null,
   "metadata": {},
   "outputs": [],
   "source": [
    "data = requests.get('https://southernjewelrynews.com/?s=sustainable+material')"
   ]
  },
  {
   "cell_type": "code",
   "execution_count": null,
   "metadata": {},
   "outputs": [],
   "source": [
    "soup = bs4.BeautifulSoup(data.text)\n",
    "soup"
   ]
  },
  {
   "cell_type": "code",
   "execution_count": null,
   "metadata": {},
   "outputs": [],
   "source": [
    "title = soup.find('article',{'class':'jeg_post jeg_pl_md_2 format-standard'})"
   ]
  },
  {
   "cell_type": "code",
   "execution_count": null,
   "metadata": {},
   "outputs": [],
   "source": [
    "title.find('h3',{'class':'jeg_post_title'}).text.replace('\\n','')"
   ]
  },
  {
   "cell_type": "code",
   "execution_count": null,
   "metadata": {},
   "outputs": [],
   "source": [
    "desc = title.find('div',{'class':'jeg_post_excerpt'}).text.replace('\\n','')"
   ]
  },
  {
   "cell_type": "code",
   "execution_count": null,
   "metadata": {},
   "outputs": [],
   "source": [
    "len(soup.find_all('article',{'class':'jeg_post jeg_pl_md_2 format-standard'}))"
   ]
  },
  {
   "cell_type": "code",
   "execution_count": null,
   "metadata": {},
   "outputs": [],
   "source": [
    "i_page = 1\n",
    "title_list = []\n",
    "cats_list = []\n",
    "desc_list = []\n",
    "while i_page <= 3:\n",
    "  data = requests.get(f'https://southernjewelrynews.com/page/{i_page}/?s=sustainable+material')\n",
    "  soup = bs4.BeautifulSoup(data.text)\n",
    "  for c in soup.find_all('article', class_='jeg_post jeg_pl_md_2 format-standard'):\n",
    "    title_list.append(c.find('h3',{'class':'jeg_post_title'}).text.replace('\\n',''))\n",
    "    desc_list.append(c.find('div', class_='jeg_post_excerpt').text.strip())\n",
    "  print('Complete page number: ',i_page)\n",
    "  i_page += 1"
   ]
  },
  {
   "cell_type": "code",
   "execution_count": null,
   "metadata": {},
   "outputs": [],
   "source": [
    "table = pd.DataFrame([title_list,desc_list]).transpose()\n",
    "table.columns = ['title','description']\n",
    "table.set_index('title')"
   ]
  },
  {
   "cell_type": "code",
   "execution_count": null,
   "metadata": {},
   "outputs": [],
   "source": [
    "soup.find('div', class_= 'jeg_postblock_content').text"
   ]
  },
  {
   "cell_type": "code",
   "execution_count": null,
   "metadata": {},
   "outputs": [],
   "source": [
    "df = pd.DataFrame(table)"
   ]
  },
  {
   "cell_type": "code",
   "execution_count": null,
   "id": "96c33c29",
   "metadata": {},
   "outputs": [],
   "source": [
    "pd.set_option('display.max_colwidth', None)"
   ]
  },
  {
   "cell_type": "code",
   "execution_count": null,
   "metadata": {
    "scrolled": true
   },
   "outputs": [],
   "source": [
    "df.info()"
   ]
  },
  {
   "cell_type": "code",
   "execution_count": null,
   "metadata": {},
   "outputs": [],
   "source": [
    "df.drop_duplicates(inplace=True)\n",
    "df"
   ]
  },
  {
   "cell_type": "code",
   "execution_count": null,
   "metadata": {},
   "outputs": [],
   "source": [
    "df2 = df.drop([19])\n",
    "df2"
   ]
  },
  {
   "cell_type": "code",
   "execution_count": null,
   "metadata": {},
   "outputs": [],
   "source": [
    "df3 =  df2.replace({'\\®':'','\\’':'\\'','\\“':'\\\"','\\”':'\\\"','–':'-','\\s{2,}':' '}, regex = True)\n",
    "df3"
   ]
  },
  {
   "cell_type": "code",
   "execution_count": null,
   "metadata": {},
   "outputs": [],
   "source": [
    "df3.to_csv(r'C:\\Users\\acer\\Desktop\\newsinsouthernjewelrynews.csv',index=False)"
   ]
  },
  {
   "cell_type": "markdown",
   "id": "ef4be8dd",
   "metadata": {},
   "source": [
    "Uploaded csv file to DataPlatform and Covert file to parquet"
   ]
  },
  {
   "cell_type": "code",
   "execution_count": null,
   "id": "a9208473",
   "metadata": {},
   "outputs": [],
   "source": [
    "from dsmlibrary.datanode import DataNode\n",
    "import json\n",
    "from tqdm.auto import tqdm\n",
    "import pandas as pd"
   ]
  },
  {
   "cell_type": "code",
   "execution_count": null,
   "id": "cf0fb9f2",
   "metadata": {},
   "outputs": [],
   "source": [
    "dir_raw_id = 45\n",
    "dir_process_id = 123"
   ]
  },
  {
   "cell_type": "code",
   "execution_count": null,
   "id": "a1af0063",
   "metadata": {},
   "outputs": [],
   "source": [
    "datanode = DataNode()"
   ]
  },
  {
   "cell_type": "code",
   "execution_count": null,
   "id": "16a97e5c",
   "metadata": {},
   "outputs": [],
   "source": [
    "meta, fp = datanode.get_file(datanode.get_file_id(directory_id=dir_raw_id, name='newsinsouthernjewelrynews.csv'))\n",
    "meta"
   ]
  },
  {
   "cell_type": "code",
   "execution_count": null,
   "id": "83ea04f1",
   "metadata": {},
   "outputs": [],
   "source": [
    "df = pd.read_csv(fp)\n",
    "df"
   ]
  },
  {
   "cell_type": "code",
   "execution_count": null,
   "id": "8448bfd3",
   "metadata": {},
   "outputs": [],
   "source": [
    "datanode.write(df=df, directory=dir_process_id, name=\"sustainable_material_in_southernjewelrynews\", profiling=True, lineage=[datanode.get_file_id(directory_id=dir_raw_id, name='newsinsouthernjewelrynews.csv')])"
   ]
  }
 ],
 "metadata": {
  "kernelspec": {
   "display_name": "Python 3",
   "language": "python",
   "name": "python3"
  },
  "language_info": {
   "codemirror_mode": {
    "name": "ipython",
    "version": 3
   },
   "file_extension": ".py",
   "mimetype": "text/x-python",
   "name": "python",
   "nbconvert_exporter": "python",
   "pygments_lexer": "ipython3",
   "version": "3.7.6"
  }
 },
 "nbformat": 4,
 "nbformat_minor": 5
}
